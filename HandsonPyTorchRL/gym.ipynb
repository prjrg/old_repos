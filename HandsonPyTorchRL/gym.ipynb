{
 "cells": [
  {
   "cell_type": "code",
   "execution_count": 1,
   "metadata": {},
   "outputs": [],
   "source": [
    "import torch"
   ]
  },
  {
   "cell_type": "code",
   "execution_count": 2,
   "metadata": {},
   "outputs": [],
   "source": [
    "import gym\n",
    "import numpy as np"
   ]
  },
  {
   "cell_type": "code",
   "execution_count": 3,
   "metadata": {},
   "outputs": [
    {
     "data": {
      "text/plain": [
       "array([-0.04097266, -0.01654013, -0.04412864,  0.04881448])"
      ]
     },
     "execution_count": 3,
     "metadata": {},
     "output_type": "execute_result"
    }
   ],
   "source": [
    "env = gym.make('CartPole-v0')\n",
    "env.reset()"
   ]
  },
  {
   "cell_type": "code",
   "execution_count": null,
   "metadata": {},
   "outputs": [],
   "source": [
    "for i in range(100):\n",
    "    env.render()\n",
    "    \n",
    "    action = env.action_space.sample()\n",
    "    \n",
    "    state, reward, done, info = env.step(action)\n",
    "    \n",
    "    if done:\n",
    "        env.reset()"
   ]
  },
  {
   "cell_type": "code",
   "execution_count": 5,
   "metadata": {},
   "outputs": [
    {
     "name": "stdout",
     "output_type": "stream",
     "text": [
      "state space is Box(4,)\n",
      "action space is Discrete(2)\n",
      "example state is [ 0.04692829 -0.03947167 -0.04816862  0.02332975]\n",
      "example action space is 1\n"
     ]
    }
   ],
   "source": [
    "print(\"state space is {}\".format(env.observation_space))\n",
    "print(\"action space is {}\".format(env.action_space))\n",
    "print(\"example state is {}\".format(env.reset()))\n",
    "print(\"example action space is {}\".format(env.action_space.sample()))"
   ]
  },
  {
   "cell_type": "code",
   "execution_count": 9,
   "metadata": {},
   "outputs": [
    {
     "name": "stdout",
     "output_type": "stream",
     "text": [
      "Episode 0 done with reward: 22.0\n",
      "Episode 1 done with reward: 11.0\n",
      "Episode 2 done with reward: 22.0\n",
      "Episode 3 done with reward: 30.0\n",
      "Episode 4 done with reward: 13.0\n",
      "Episode 5 done with reward: 32.0\n",
      "Episode 6 done with reward: 14.0\n",
      "Episode 7 done with reward: 51.0\n",
      "Episode 8 done with reward: 17.0\n",
      "Episode 9 done with reward: 14.0\n"
     ]
    }
   ],
   "source": [
    "episodes = 10\n",
    "\n",
    "for ep in range(episodes):\n",
    "    episode_reward = 0\n",
    "    env.reset()\n",
    "    while True:\n",
    "        action = env.action_space.sample()\n",
    "        state, reward, done, info = env.step(action)\n",
    "        episode_reward += reward\n",
    "        if done:\n",
    "            print(\"Episode {} done with reward: {}\".format(ep, episode_reward))\n",
    "            break"
   ]
  },
  {
   "cell_type": "code",
   "execution_count": 11,
   "metadata": {},
   "outputs": [
    {
     "name": "stdout",
     "output_type": "stream",
     "text": [
      "Episode 0 done after timestep 14\n",
      "Episode 1 done after timestep 18\n",
      "Episode 2 done after timestep 11\n",
      "Episode 3 done after timestep 34\n",
      "Episode 4 done after timestep 22\n",
      "Episode 5 done after timestep 31\n",
      "Episode 6 done after timestep 46\n",
      "Episode 7 done after timestep 38\n",
      "Episode 8 done after timestep 24\n",
      "Episode 9 done after timestep 18\n"
     ]
    }
   ],
   "source": [
    "episodes = 10\n",
    "max_timesteps = 200\n",
    "for ep in range(episodes):\n",
    "    episode_reward = 0\n",
    "    env.reset()\n",
    "    for timestep in range(max_timesteps):\n",
    "        action = env.action_space.sample()\n",
    "        state, reward, done, info = env.step(action)\n",
    "        episode_reward += reward\n",
    "        if done:\n",
    "            print(\"Episode {} done after timestep {}\".format(ep, timestep))\n",
    "            break"
   ]
  },
  {
   "cell_type": "code",
   "execution_count": null,
   "metadata": {},
   "outputs": [],
   "source": []
  }
 ],
 "metadata": {
  "kernelspec": {
   "display_name": "Python 3",
   "language": "python",
   "name": "python3"
  },
  "language_info": {
   "codemirror_mode": {
    "name": "ipython",
    "version": 3
   },
   "file_extension": ".py",
   "mimetype": "text/x-python",
   "name": "python",
   "nbconvert_exporter": "python",
   "pygments_lexer": "ipython3",
   "version": "3.7.6"
  }
 },
 "nbformat": 4,
 "nbformat_minor": 4
}
