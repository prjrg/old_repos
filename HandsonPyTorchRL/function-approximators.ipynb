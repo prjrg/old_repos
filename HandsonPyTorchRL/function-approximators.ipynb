{
 "cells": [
  {
   "cell_type": "code",
   "execution_count": 1,
   "metadata": {},
   "outputs": [],
   "source": [
    "import torch\n",
    "import torch.nn as nn\n",
    "import torch.nn.functional as F"
   ]
  },
  {
   "cell_type": "code",
   "execution_count": 2,
   "metadata": {},
   "outputs": [],
   "source": [
    "class NeuralNetwork(nn.Module):\n",
    "    def __init__(self, input_size, output_size, hidden_size):\n",
    "        super(NeuralNetwork, self).__init__()\n",
    "        self.dl1 = nn.Linear(input_size, hidden_size)\n",
    "        self.dl2 = nn.Linear(hidden_size, hidden_size)\n",
    "        self.out = nn.Linear(hidden_size, output_size)\n",
    "        \n",
    "    def forward(self, x):\n",
    "        x = F.relu(self.dl1(x))\n",
    "        x = F.relu(self.dl2(x))\n",
    "        return self.out(x)"
   ]
  },
  {
   "cell_type": "code",
   "execution_count": 3,
   "metadata": {},
   "outputs": [],
   "source": [
    "class NeuralNetwork(nn.Module):\n",
    "    def __init__(self, input_size, output_size, hidden_size):\n",
    "        super(NeuralNetwork, self).__init__()\n",
    "        self.dl1 = nn.Linear(input_size, hidden_size)\n",
    "        self.dl2 = nn.Linear(hidden_size, hidden_size)\n",
    "        self.out = nn.Linear(hidden_size, output_size)\n",
    "        \n",
    "    def forward(self, x):\n",
    "        x = F.relu(self.dl1(x))\n",
    "        x = F.relu(self.dl2(x))\n",
    "        return torch.tanh(self.out(x))"
   ]
  },
  {
   "cell_type": "code",
   "execution_count": 5,
   "metadata": {},
   "outputs": [],
   "source": [
    "class DeepQNetwork(nn.Module):\n",
    "    def __init__(self, num_action, hidden_size):\n",
    "        super(DeepQNetwork, self).__init__()\n",
    "        self.cv1 = nn.Conv2d(4, 32, kernel_size=8, stride=4)\n",
    "        self.cv2 = nn.Conv2d(32, 64, kernel_size=4, stride=2)\n",
    "        self.cv3 = nn.Conv2d(64, 64, kernel_size=3, stride=1)\n",
    "        self.fc = nn.Linear(7*7 * 64, hidden_size)\n",
    "        self.out = nn.Linear(hidden_size, num_action)\n",
    "        \n",
    "    def forward(self, x):\n",
    "        x = F.relu(self.cv1(x))\n",
    "        x = F.relu(self.cv2(x))\n",
    "        x = F.relu(self.cv3(x))\n",
    "        x = F.relu(self.fc(x.view(x.size(0), -1)))\n",
    "        return self.out(x)\n",
    "        "
   ]
  },
  {
   "cell_type": "code",
   "execution_count": null,
   "metadata": {},
   "outputs": [],
   "source": []
  }
 ],
 "metadata": {
  "kernelspec": {
   "display_name": "Python 3",
   "language": "python",
   "name": "python3"
  },
  "language_info": {
   "codemirror_mode": {
    "name": "ipython",
    "version": 3
   },
   "file_extension": ".py",
   "mimetype": "text/x-python",
   "name": "python",
   "nbconvert_exporter": "python",
   "pygments_lexer": "ipython3",
   "version": "3.7.6"
  }
 },
 "nbformat": 4,
 "nbformat_minor": 4
}
