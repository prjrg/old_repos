{
 "cells": [
  {
   "cell_type": "code",
   "execution_count": 1,
   "metadata": {},
   "outputs": [],
   "source": [
    "import gym\n",
    "import numpy as np"
   ]
  },
  {
   "cell_type": "code",
   "execution_count": 2,
   "metadata": {},
   "outputs": [],
   "source": [
    "def q_learning_q_value_estimate(env, episodes=1000, alpha=0.05, discount_factor=1.0, epsilon=0.1):\n",
    "    state_size = env.nS\n",
    "    action_size = env.nA\n",
    "    q_value_array = np.zeros((state_size, action_size))\n",
    "    current_state = env.reset()\n",
    "    \n",
    "    current_episode = 0\n",
    "    while current_episode < episodes:\n",
    "        if np.random.rand() < epsilon:\n",
    "            eg_action = env.action_space.sample()\n",
    "        else:\n",
    "            eg_action = np.argmax(q_value_array[current_state])\n",
    "        \n",
    "        next_state, rew, done, info = env.step(eg_action)\n",
    "        \n",
    "        q_value_array[current_state, eg_action] = q_value_array[current_state, eg_action] + \\\n",
    "            alpha * (rew + discount_factor * np.max(q_value_array[next_state, :]) - q_value_array[current_state, eg_action])\n",
    "        \n",
    "        if done:\n",
    "            current_state = env.reset()\n",
    "            current_episode += 1\n",
    "        else:\n",
    "            current_state = next_state\n",
    "            \n",
    "    return q_value_array"
   ]
  },
  {
   "cell_type": "code",
   "execution_count": null,
   "metadata": {},
   "outputs": [],
   "source": []
  }
 ],
 "metadata": {
  "kernelspec": {
   "display_name": "Python 3",
   "language": "python",
   "name": "python3"
  },
  "language_info": {
   "codemirror_mode": {
    "name": "ipython",
    "version": 3
   },
   "file_extension": ".py",
   "mimetype": "text/x-python",
   "name": "python",
   "nbconvert_exporter": "python",
   "pygments_lexer": "ipython3",
   "version": "3.7.6"
  }
 },
 "nbformat": 4,
 "nbformat_minor": 4
}
