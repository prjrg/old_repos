{
 "cells": [
  {
   "cell_type": "markdown",
   "metadata": {},
   "source": [
    "# Continuous Control\n",
    "\n",
    "---\n",
    "\n",
    "In this notebook, you will see how to use the Unity ML-Agents environment for the second project of the [Deep Reinforcement Learning Nanodegree](https://www.udacity.com/course/deep-reinforcement-learning-nanodegree--nd893) program.\n",
    "\n",
    "### 1. Start the Environment\n",
    "\n",
    "We begin by importing the necessary packages.  If the code cell below returns an error, please revisit the project instructions to double-check that you have installed [Unity ML-Agents](https://github.com/Unity-Technologies/ml-agents/blob/master/docs/Installation.md) and [NumPy](http://www.numpy.org/)."
   ]
  },
  {
   "cell_type": "code",
   "execution_count": 1,
   "metadata": {},
   "outputs": [],
   "source": [
    "!pip -q install ./python"
   ]
  },
  {
   "cell_type": "code",
   "execution_count": 2,
   "metadata": {},
   "outputs": [],
   "source": [
    "from unityagents import UnityEnvironment\n",
    "import numpy as np"
   ]
  },
  {
   "cell_type": "markdown",
   "metadata": {},
   "source": [
    "Next, we will start the environment!  **_Before running the code cell below_**, change the `file_name` parameter to match the location of the Unity environment that you downloaded.\n",
    "\n",
    "- **Mac**: `\"path/to/Reacher.app\"`\n",
    "- **Windows** (x86): `\"path/to/Reacher_Windows_x86/Reacher.exe\"`\n",
    "- **Windows** (x86_64): `\"path/to/Reacher_Windows_x86_64/Reacher.exe\"`\n",
    "- **Linux** (x86): `\"path/to/Reacher_Linux/Reacher.x86\"`\n",
    "- **Linux** (x86_64): `\"path/to/Reacher_Linux/Reacher.x86_64\"`\n",
    "- **Linux** (x86, headless): `\"path/to/Reacher_Linux_NoVis/Reacher.x86\"`\n",
    "- **Linux** (x86_64, headless): `\"path/to/Reacher_Linux_NoVis/Reacher.x86_64\"`\n",
    "\n",
    "For instance, if you are using a Mac, then you downloaded `Reacher.app`.  If this file is in the same folder as the notebook, then the line below should appear as follows:\n",
    "```\n",
    "env = UnityEnvironment(file_name=\"Reacher.app\")\n",
    "```"
   ]
  },
  {
   "cell_type": "code",
   "execution_count": 3,
   "metadata": {},
   "outputs": [
    {
     "name": "stderr",
     "output_type": "stream",
     "text": [
      "INFO:unityagents:\n",
      "'Academy' started successfully!\n",
      "Unity Academy name: Academy\n",
      "        Number of Brains: 1\n",
      "        Number of External Brains : 1\n",
      "        Lesson number : 0\n",
      "        Reset Parameters :\n",
      "\t\tgoal_speed -> 1.0\n",
      "\t\tgoal_size -> 5.0\n",
      "Unity brain name: ReacherBrain\n",
      "        Number of Visual Observations (per agent): 0\n",
      "        Vector Observation space type: continuous\n",
      "        Vector Observation space size (per agent): 33\n",
      "        Number of stacked Vector Observation: 1\n",
      "        Vector Action space type: continuous\n",
      "        Vector Action space size (per agent): 4\n",
      "        Vector Action descriptions: , , , \n"
     ]
    }
   ],
   "source": [
    "# select this option to load version 2 (with 20 agents) of the environment\n",
    "env = UnityEnvironment(file_name='/data/Reacher_Linux_NoVis/Reacher.x86_64')\n",
    "\n",
    "# This is how I set up in my local machine the Unity environment\n",
    "#env = UnityEnvironment(file_name='./Reacher_Linux/Reacher.x86_64')"
   ]
  },
  {
   "cell_type": "markdown",
   "metadata": {},
   "source": [
    "Environments contain **_brains_** which are responsible for deciding the actions of their associated agents. Here we check for the first brain available, and set it as the default brain we will be controlling from Python."
   ]
  },
  {
   "cell_type": "code",
   "execution_count": 4,
   "metadata": {},
   "outputs": [],
   "source": [
    "# get the default brain\n",
    "brain_name = env.brain_names[0]\n",
    "brain = env.brains[brain_name]"
   ]
  },
  {
   "cell_type": "markdown",
   "metadata": {},
   "source": [
    "### 2. Examine the State and Action Spaces\n",
    "\n",
    "In this environment, a double-jointed arm can move to target locations. A reward of `+0.1` is provided for each step that the agent's hand is in the goal location. Thus, the goal of your agent is to maintain its position at the target location for as many time steps as possible.\n",
    "\n",
    "The observation space consists of `33` variables corresponding to position, rotation, velocity, and angular velocities of the arm.  Each action is a vector with four numbers, corresponding to torque applicable to two joints.  Every entry in the action vector must be a number between `-1` and `1`.\n",
    "\n",
    "Run the code cell below to print some information about the environment."
   ]
  },
  {
   "cell_type": "code",
   "execution_count": 5,
   "metadata": {},
   "outputs": [
    {
     "name": "stdout",
     "output_type": "stream",
     "text": [
      "Number of agents: 20\n",
      "Size of each action: 4\n",
      "There are 20 agents. Each observes a state with length: 33\n",
      "The state for the first agent looks like: [ 0.00000000e+00 -4.00000000e+00  0.00000000e+00  1.00000000e+00\n",
      " -0.00000000e+00 -0.00000000e+00 -4.37113883e-08  0.00000000e+00\n",
      "  0.00000000e+00  0.00000000e+00  0.00000000e+00  0.00000000e+00\n",
      "  0.00000000e+00  0.00000000e+00 -1.00000000e+01  0.00000000e+00\n",
      "  1.00000000e+00 -0.00000000e+00 -0.00000000e+00 -4.37113883e-08\n",
      "  0.00000000e+00  0.00000000e+00  0.00000000e+00  0.00000000e+00\n",
      "  0.00000000e+00  0.00000000e+00  5.75471878e+00 -1.00000000e+00\n",
      "  5.55726624e+00  0.00000000e+00  1.00000000e+00  0.00000000e+00\n",
      " -1.68164849e-01]\n"
     ]
    }
   ],
   "source": [
    "# reset the environment\n",
    "env_info = env.reset(train_mode=True)[brain_name]\n",
    "\n",
    "# number of agents\n",
    "num_agents = len(env_info.agents)\n",
    "print('Number of agents:', num_agents)\n",
    "\n",
    "# size of each action\n",
    "action_size = brain.vector_action_space_size\n",
    "print('Size of each action:', action_size)\n",
    "\n",
    "# examine the state space \n",
    "states = env_info.vector_observations\n",
    "state_size = states.shape[1]\n",
    "print('There are {} agents. Each observes a state with length: {}'.format(states.shape[0], state_size))\n",
    "print('The state for the first agent looks like:', states[0])"
   ]
  },
  {
   "cell_type": "markdown",
   "metadata": {},
   "source": [
    "### 3. Take Random Actions in the Environment\n",
    "\n",
    "In the next code cell, you will see how to use the Python API to control the agent and receive feedback from the environment.\n",
    "\n",
    "Once this cell is executed, you will watch the agent's performance, if it selects an action at random with each time step.  A window should pop up that allows you to observe the agent, as it moves through the environment.  \n",
    "\n",
    "This is a baseline, since it is how a random agent would behave."
   ]
  },
  {
   "cell_type": "code",
   "execution_count": 6,
   "metadata": {},
   "outputs": [
    {
     "name": "stdout",
     "output_type": "stream",
     "text": [
      "Total score (averaged over agents) this episode: 0.13199999704957008\n"
     ]
    }
   ],
   "source": [
    "env_info = env.reset(train_mode=False)[brain_name]     # reset the environment    \n",
    "states = env_info.vector_observations                  # get the current state (for each agent)\n",
    "scores = np.zeros(num_agents)                          # initialize the score (for each agent)\n",
    "while True:\n",
    "    actions = np.random.randn(num_agents, action_size) # select an action (for each agent)\n",
    "    actions = np.clip(actions, -1, 1)                  # all actions between -1 and 1\n",
    "    env_info = env.step(actions)[brain_name]           # send all actions to tne environment\n",
    "    next_states = env_info.vector_observations         # get next state (for each agent)\n",
    "    rewards = env_info.rewards                         # get reward (for each agent)\n",
    "    dones = env_info.local_done                        # see if episode finished\n",
    "    scores += env_info.rewards                         # update the score (for each agent)\n",
    "    states = next_states                               # roll over states to next time step\n",
    "    if np.any(dones):                                  # exit loop if episode finished\n",
    "        break\n",
    "print('Total score (averaged over agents) this episode: {}'.format(np.mean(scores)))"
   ]
  },
  {
   "cell_type": "markdown",
   "metadata": {},
   "source": [
    "# Train the DDPG Agent"
   ]
  },
  {
   "cell_type": "markdown",
   "metadata": {},
   "source": [
    "### Create the Agent\n",
    "\n",
    "You need to instantiate the Agent first with the appropriate parameters found above."
   ]
  },
  {
   "cell_type": "code",
   "execution_count": 7,
   "metadata": {},
   "outputs": [],
   "source": [
    "from ddpg_agent import Agents\n",
    "\n",
    "agent = Agents(state_size=state_size, action_size=action_size, random_seed=1, n_agents=num_agents)"
   ]
  },
  {
   "cell_type": "markdown",
   "metadata": {},
   "source": [
    "### Train the Agent \n",
    "\n",
    "This object is responsible for training the agent and composing the training process."
   ]
  },
  {
   "cell_type": "code",
   "execution_count": 7,
   "metadata": {},
   "outputs": [],
   "source": [
    "from trainer import Trainer\n",
    "\n",
    "trainer = Trainer(env=env, agent=agent, brain_name=brain_name, n_agents=num_agents)"
   ]
  },
  {
   "cell_type": "markdown",
   "metadata": {},
   "source": [
    "We compute two scores from the training process, the mean_scores which is the value of the mean scores for each episode. And the moving_avg_scores which is the value of the moving average of the last 100th episodes after each episode."
   ]
  },
  {
   "cell_type": "code",
   "execution_count": 8,
   "metadata": {},
   "outputs": [
    {
     "name": "stderr",
     "output_type": "stream",
     "text": [
      "/home/pedro/UdacityDeepReinforcementLearning/p2_continuous-control/ddpg_agent.py:130: UserWarning: torch.nn.utils.clip_grad_norm is now deprecated in favor of torch.nn.utils.clip_grad_norm_.\n",
      "  torch.nn.utils.clip_grad_norm(self.critic_local.parameters(), 1)\n"
     ]
    },
    {
     "name": "stdout",
     "output_type": "stream",
     "text": [
      "Episode [1/1800]\tScores: 0.34\tMoving Average: 0.34\n",
      "Episode [2/1800]\tScores: 0.68\tMoving Average: 0.51\n",
      "Episode [3/1800]\tScores: 0.54\tMoving Average: 0.52\n",
      "Episode [4/1800]\tScores: 0.62\tMoving Average: 0.54\n",
      "Episode [5/1800]\tScores: 0.77\tMoving Average: 0.59\n",
      "Episode [6/1800]\tScores: 0.91\tMoving Average: 0.64\n",
      "Episode [7/1800]\tScores: 1.08\tMoving Average: 0.70\n",
      "Episode [8/1800]\tScores: 1.22\tMoving Average: 0.77\n",
      "Episode [9/1800]\tScores: 1.15\tMoving Average: 0.81\n",
      "Episode [10/1800]\tScores: 0.99\tMoving Average: 0.83\n",
      "Episode [11/1800]\tScores: 1.16\tMoving Average: 0.86\n",
      "Episode [12/1800]\tScores: 1.23\tMoving Average: 0.89\n",
      "Episode [13/1800]\tScores: 1.23\tMoving Average: 0.92\n",
      "Episode [14/1800]\tScores: 1.77\tMoving Average: 0.98\n",
      "Episode [15/1800]\tScores: 1.54\tMoving Average: 1.02\n",
      "Episode [16/1800]\tScores: 1.89\tMoving Average: 1.07\n",
      "Episode [17/1800]\tScores: 2.18\tMoving Average: 1.14\n",
      "Episode [18/1800]\tScores: 2.39\tMoving Average: 1.21\n",
      "Episode [19/1800]\tScores: 3.88\tMoving Average: 1.35\n",
      "Episode [20/1800]\tScores: 3.01\tMoving Average: 1.43\n",
      "Episode [21/1800]\tScores: 4.17\tMoving Average: 1.56\n",
      "Episode [22/1800]\tScores: 3.75\tMoving Average: 1.66\n",
      "Episode [23/1800]\tScores: 5.14\tMoving Average: 1.81\n",
      "Episode [24/1800]\tScores: 4.88\tMoving Average: 1.94\n",
      "Episode [25/1800]\tScores: 5.93\tMoving Average: 2.10\n",
      "Episode [26/1800]\tScores: 6.30\tMoving Average: 2.26\n",
      "Episode [27/1800]\tScores: 7.99\tMoving Average: 2.47\n",
      "Episode [28/1800]\tScores: 8.75\tMoving Average: 2.70\n",
      "Episode [29/1800]\tScores: 11.79\tMoving Average: 3.01\n",
      "Episode [30/1800]\tScores: 10.81\tMoving Average: 3.27\n",
      "Episode [31/1800]\tScores: 11.03\tMoving Average: 3.52\n",
      "Episode [32/1800]\tScores: 12.69\tMoving Average: 3.81\n",
      "Episode [33/1800]\tScores: 12.70\tMoving Average: 4.08\n",
      "Episode [34/1800]\tScores: 15.37\tMoving Average: 4.41\n",
      "Episode [35/1800]\tScores: 17.10\tMoving Average: 4.77\n",
      "Episode [36/1800]\tScores: 17.57\tMoving Average: 5.13\n",
      "Episode [37/1800]\tScores: 19.37\tMoving Average: 5.51\n",
      "Episode [38/1800]\tScores: 23.48\tMoving Average: 5.98\n",
      "Episode [39/1800]\tScores: 23.78\tMoving Average: 6.44\n",
      "Episode [40/1800]\tScores: 23.60\tMoving Average: 6.87\n",
      "Episode [41/1800]\tScores: 23.74\tMoving Average: 7.28\n",
      "Episode [42/1800]\tScores: 28.49\tMoving Average: 7.79\n",
      "Episode [43/1800]\tScores: 29.47\tMoving Average: 8.29\n",
      "Episode [44/1800]\tScores: 29.91\tMoving Average: 8.78\n",
      "Episode [45/1800]\tScores: 29.32\tMoving Average: 9.24\n",
      "Episode [46/1800]\tScores: 29.60\tMoving Average: 9.68\n",
      "Episode [47/1800]\tScores: 31.12\tMoving Average: 10.14\n",
      "Episode [48/1800]\tScores: 34.61\tMoving Average: 10.65\n",
      "Episode [49/1800]\tScores: 34.71\tMoving Average: 11.14\n",
      "Episode [50/1800]\tScores: 33.16\tMoving Average: 11.58\n",
      "Episode [51/1800]\tScores: 36.68\tMoving Average: 12.07\n",
      "Episode [52/1800]\tScores: 34.62\tMoving Average: 12.50\n",
      "Episode [53/1800]\tScores: 32.78\tMoving Average: 12.89\n",
      "Episode [54/1800]\tScores: 37.31\tMoving Average: 13.34\n",
      "Episode [55/1800]\tScores: 35.63\tMoving Average: 13.74\n",
      "Episode [56/1800]\tScores: 34.20\tMoving Average: 14.11\n",
      "Episode [57/1800]\tScores: 36.11\tMoving Average: 14.50\n",
      "Episode [58/1800]\tScores: 35.59\tMoving Average: 14.86\n",
      "Episode [59/1800]\tScores: 37.23\tMoving Average: 15.24\n",
      "Episode [60/1800]\tScores: 37.09\tMoving Average: 15.60\n",
      "Episode [61/1800]\tScores: 37.92\tMoving Average: 15.97\n",
      "Episode [62/1800]\tScores: 36.56\tMoving Average: 16.30\n",
      "Episode [63/1800]\tScores: 36.28\tMoving Average: 16.62\n",
      "Episode [64/1800]\tScores: 34.48\tMoving Average: 16.90\n",
      "Episode [65/1800]\tScores: 35.63\tMoving Average: 17.18\n",
      "Episode [66/1800]\tScores: 35.34\tMoving Average: 17.46\n",
      "Episode [67/1800]\tScores: 37.06\tMoving Average: 17.75\n",
      "Episode [68/1800]\tScores: 35.32\tMoving Average: 18.01\n",
      "Episode [69/1800]\tScores: 36.21\tMoving Average: 18.27\n",
      "Episode [70/1800]\tScores: 36.88\tMoving Average: 18.54\n",
      "Episode [71/1800]\tScores: 37.37\tMoving Average: 18.81\n",
      "Episode [72/1800]\tScores: 38.02\tMoving Average: 19.07\n",
      "Episode [73/1800]\tScores: 37.23\tMoving Average: 19.32\n",
      "Episode [74/1800]\tScores: 35.53\tMoving Average: 19.54\n",
      "Episode [75/1800]\tScores: 34.35\tMoving Average: 19.74\n",
      "Episode [76/1800]\tScores: 36.45\tMoving Average: 19.96\n",
      "Episode [77/1800]\tScores: 38.30\tMoving Average: 20.20\n",
      "Episode [78/1800]\tScores: 38.24\tMoving Average: 20.43\n",
      "Episode [79/1800]\tScores: 37.23\tMoving Average: 20.64\n",
      "Episode [80/1800]\tScores: 36.47\tMoving Average: 20.84\n",
      "Episode [81/1800]\tScores: 38.05\tMoving Average: 21.05\n",
      "Episode [82/1800]\tScores: 37.84\tMoving Average: 21.25\n",
      "Episode [83/1800]\tScores: 36.72\tMoving Average: 21.44\n",
      "Episode [84/1800]\tScores: 38.17\tMoving Average: 21.64\n",
      "Episode [85/1800]\tScores: 38.12\tMoving Average: 21.83\n",
      "Episode [86/1800]\tScores: 38.86\tMoving Average: 22.03\n",
      "Episode [87/1800]\tScores: 38.07\tMoving Average: 22.22\n",
      "Episode [88/1800]\tScores: 38.53\tMoving Average: 22.40\n",
      "Episode [89/1800]\tScores: 39.13\tMoving Average: 22.59\n",
      "Episode [90/1800]\tScores: 38.54\tMoving Average: 22.77\n",
      "Episode [91/1800]\tScores: 38.83\tMoving Average: 22.94\n",
      "Episode [92/1800]\tScores: 37.42\tMoving Average: 23.10\n",
      "Episode [93/1800]\tScores: 37.96\tMoving Average: 23.26\n",
      "Episode [94/1800]\tScores: 36.88\tMoving Average: 23.41\n",
      "Episode [95/1800]\tScores: 37.38\tMoving Average: 23.55\n",
      "Episode [96/1800]\tScores: 38.10\tMoving Average: 23.70\n",
      "Episode [97/1800]\tScores: 37.02\tMoving Average: 23.84\n",
      "Episode [98/1800]\tScores: 36.57\tMoving Average: 23.97\n",
      "Episode [99/1800]\tScores: 35.00\tMoving Average: 24.08\n",
      "Episode [100/1800]\tScores: 34.18\tMoving Average: 24.18\n",
      "Episode [101/1800]\tScores: 33.92\tMoving Average: 24.52\n",
      "Episode [102/1800]\tScores: 28.44\tMoving Average: 24.80\n",
      "Episode [103/1800]\tScores: 29.77\tMoving Average: 25.09\n",
      "Episode [104/1800]\tScores: 32.63\tMoving Average: 25.41\n",
      "Episode [105/1800]\tScores: 32.20\tMoving Average: 25.72\n",
      "Episode [106/1800]\tScores: 33.90\tMoving Average: 26.05\n",
      "Episode [107/1800]\tScores: 35.14\tMoving Average: 26.39\n",
      "Episode [108/1800]\tScores: 34.25\tMoving Average: 26.73\n",
      "Episode [109/1800]\tScores: 32.97\tMoving Average: 27.04\n",
      "Episode [110/1800]\tScores: 33.88\tMoving Average: 27.37\n",
      "Episode [111/1800]\tScores: 33.30\tMoving Average: 27.69\n",
      "Episode [112/1800]\tScores: 34.27\tMoving Average: 28.02\n",
      "Episode [113/1800]\tScores: 35.69\tMoving Average: 28.37\n",
      "Episode [114/1800]\tScores: 33.89\tMoving Average: 28.69\n",
      "Episode [115/1800]\tScores: 32.20\tMoving Average: 29.00\n",
      "Episode [116/1800]\tScores: 34.63\tMoving Average: 29.32\n",
      "Episode [117/1800]\tScores: 35.44\tMoving Average: 29.66\n",
      "Episode [118/1800]\tScores: 35.05\tMoving Average: 29.98\n",
      "Episode [119/1800]\tScores: 33.29\tMoving Average: 30.28\n",
      "Episode [120/1800]\tScores: 34.88\tMoving Average: 30.60\n",
      "Episode [121/1800]\tScores: 32.56\tMoving Average: 30.88\n",
      "Environment solved in 22 episodes\n"
     ]
    }
   ],
   "source": [
    "mean_scores, moving_avg_scores = trainer.train(print_every=1)"
   ]
  },
  {
   "cell_type": "markdown",
   "metadata": {},
   "source": [
    "### Plotting results"
   ]
  },
  {
   "cell_type": "code",
   "execution_count": 9,
   "metadata": {},
   "outputs": [],
   "source": [
    "import matplotlib.pyplot as plt\n",
    "%matplotlib inline"
   ]
  },
  {
   "cell_type": "markdown",
   "metadata": {},
   "source": [
    "#### Here we plot the values of mean_scores and moving_avg_scores over all episodes. They were 122 episodes in which the environment reached a moving average over 31.0 and is then considered solved."
   ]
  },
  {
   "cell_type": "code",
   "execution_count": 11,
   "metadata": {},
   "outputs": [
    {
     "data": {
      "image/png": "[encoded data removed]",
      "text/plain": [
       "<Figure size 432x288 with 1 Axes>"
      ]
     },
     "metadata": {
      "needs_background": "light"
     },
     "output_type": "display_data"
    }
   ],
   "source": [
    "fig = plt.figure()\n",
    "ax = fig.add_subplot(111)\n",
    "plt.plot(np.arange(len(moving_avg_scores)), moving_avg_scores)\n",
    "plt.ylabel('Moving Average Score Over Last 100 Episodes')\n",
    "plt.xlabel('Episode #')\n",
    "plt.show()"
   ]
  },
  {
   "cell_type": "code",
   "execution_count": 12,
   "metadata": {},
   "outputs": [
    {
     "data": {
      "image/png": "[encoded data removed]",
      "text/plain": [
       "<Figure size 432x288 with 1 Axes>"
      ]
     },
     "metadata": {
      "needs_background": "light"
     },
     "output_type": "display_data"
    }
   ],
   "source": [
    "fig = plt.figure()\n",
    "ax = fig.add_subplot(111)\n",
    "plt.plot(np.arange(len(mean_scores)), mean_scores)\n",
    "plt.ylabel('Mean Score Per Episode')\n",
    "plt.xlabel('Episode #')\n",
    "plt.show()"
   ]
  },
  {
   "cell_type": "markdown",
   "metadata": {},
   "source": [
    "## Load Smart Agent and Watch it in Action"
   ]
  },
  {
   "cell_type": "markdown",
   "metadata": {},
   "source": [
    "Finally we can see our agent in action by loading the parameters from the weigh files agent_actor.pth and agent_critic.pth"
   ]
  },
  {
   "cell_type": "code",
   "execution_count": null,
   "metadata": {},
   "outputs": [],
   "source": [
    "import torch\n",
    "#Load the agent into memory from the weight files\n",
    "agent.actor_local.load_state_dict(torch.load('agent_actor.pth'))\n",
    "agent.critic_local.load_state_dict(torch.load('agent_critic.pth'))\n",
    "#Compute the mean scores for 100 episodes\n",
    "max_t = 1000\n",
    "n_episodes = 100\n",
    "scores_mean = []                        # list containing scores from each episode\n",
    "for i_episode in range(1, n_episodes+1):\n",
    "    env_info = env.reset(train_mode=False)[brain_name]\n",
    "    states = env_info.vector_observations\n",
    "    scores = np.zeros(num_agents)\n",
    "\n",
    "    for _ in range(max_t):\n",
    "        action = agent.act(states)\n",
    "\n",
    "        env_info = env.step(action)[brain_name]\n",
    "\n",
    "        next_states = env_info.vector_observations\n",
    "        rewards = env_info.rewards\n",
    "        dones = env_info.local_done\n",
    "        \n",
    "        states = next_states\n",
    "        scores += rewards\n",
    "        if np.any(dones):\n",
    "            scores_mean.append(np.mean(scores)) \n",
    "            print('\\rEpisode {}\\tAverage Score: {:.2f}'.format(i_episode, scores_mean[-1]))\n",
    "            break"
   ]
  },
  {
   "cell_type": "markdown",
   "metadata": {},
   "source": [
    "When finished, you can close the environment."
   ]
  },
  {
   "cell_type": "code",
   "execution_count": null,
   "metadata": {},
   "outputs": [],
   "source": [
    "env.close()"
   ]
  }
 ],
 "metadata": {
  "kernelspec": {
   "display_name": "Python 3",
   "language": "python",
   "name": "python3"
  },
  "language_info": {
   "codemirror_mode": {
    "name": "ipython",
    "version": 3
   },
   "file_extension": ".py",
   "mimetype": "text/x-python",
   "name": "python",
   "nbconvert_exporter": "python",
   "pygments_lexer": "ipython3",
   "version": "3.6.7"
  }
 },
 "nbformat": 4,
 "nbformat_minor": 2
}
