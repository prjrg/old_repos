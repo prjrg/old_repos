{
 "cells": [
  {
   "cell_type": "code",
   "execution_count": 1,
   "metadata": {},
   "outputs": [],
   "source": [
    "import numpy as np\n",
    "import gym"
   ]
  },
  {
   "cell_type": "code",
   "execution_count": 2,
   "metadata": {},
   "outputs": [],
   "source": [
    "from gym.envs.registration import register\n",
    "register(\n",
    "    id='FrozenLakeNotSlippery-v0',\n",
    "    entry_point='gym.envs.toy_text:FrozenLakeEnv',\n",
    "    kwargs={'map_name' : '4x4', 'is_slippery': False},\n",
    "    max_episode_steps=100,\n",
    "    reward_threshold=0.78, # optimum = .8196\n",
    ")\n"
   ]
  },
  {
   "cell_type": "code",
   "execution_count": 8,
   "metadata": {},
   "outputs": [],
   "source": [
    "env = gym.make('FrozenLakeNotSlippery-v0')\n",
    "state_size = env.nS\n",
    "action_size = env.nA"
   ]
  },
  {
   "cell_type": "code",
   "execution_count": 7,
   "metadata": {},
   "outputs": [],
   "source": [
    "trial = 100\n",
    "samples = 100\n",
    "learning_rate = 0.1\n",
    "keep_best = int(0.2 * samples)"
   ]
  },
  {
   "cell_type": "code",
   "execution_count": 9,
   "metadata": {},
   "outputs": [],
   "source": [
    "policy_array = np.ones((state_size, action_size))/action_size"
   ]
  },
  {
   "cell_type": "code",
   "execution_count": 12,
   "metadata": {},
   "outputs": [],
   "source": [
    "def run_sample(env, policy, action_size):\n",
    "    state = env.reset()\n",
    "    action_count = np.zeros(np.shape(policy))\n",
    "    total_reward = 0\n",
    "    while True:\n",
    "        action = np.random.choice(action_size, p=policy[state])\n",
    "        action_count[state, action] += 1\n",
    "        state, reward, done, info = env.step(action)\n",
    "        total_reward += reward\n",
    "        if done:\n",
    "            break\n",
    "    return total_reward, action_count"
   ]
  },
  {
   "cell_type": "code",
   "execution_count": 13,
   "metadata": {},
   "outputs": [],
   "source": [
    "def update_policy(policy, s_list, learning_rate, keep):\n",
    "    s_list.sort(key=lambda x:x[0], reverse=True)\n",
    "    s_list = s_list[:keep]\n",
    "    \n",
    "    best_policy = np.zeros(np.shape(policy))\n",
    "    for s in s_list:\n",
    "        best_policy += s[1]\n",
    "        \n",
    "    for i in range(len(best_policy)):\n",
    "        total_actions = np.sum(best_policy[i])\n",
    "        if total_actions > 0:\n",
    "            policy[i] = (best_policy[i] / total_actions) * learning_rate + policy[i] * (1. - learning_rate)\n",
    "            \n",
    "    policy = policy / np.sum(policy, axis=1)[:, None]\n",
    "    \n",
    "    return policy\n",
    "    "
   ]
  },
  {
   "cell_type": "code",
   "execution_count": 15,
   "metadata": {},
   "outputs": [],
   "source": [
    "for t in range(trial):\n",
    "    sample_list = []\n",
    "    for s in range(samples):\n",
    "        reward, action_table = run_sample(env, policy_array, action_size)\n",
    "        sample_list.append((reward, action_table))\n",
    "    policy_array = update_policy(policy_array, sample_list, learning_rate, keep_best)"
   ]
  },
  {
   "cell_type": "code",
   "execution_count": 16,
   "metadata": {},
   "outputs": [
    {
     "name": "stdout",
     "output_type": "stream",
     "text": [
      "Average reward: 1.0 Average Length 6.0\n"
     ]
    }
   ],
   "source": [
    "episodes = 100\n",
    "episode_reward_list, episode_len_list = [], []\n",
    "\n",
    "for i in range(episodes):\n",
    "    state = env.reset()\n",
    "    episode_reward = 0\n",
    "    episode_length = 0\n",
    "    while True:\n",
    "        action = np.argmax(policy_array[state])\n",
    "        state, reward, done, info = env.step(action)\n",
    "        episode_reward += reward\n",
    "        episode_length += 1\n",
    "        if done:\n",
    "            episode_reward_list.append(episode_reward)\n",
    "            episode_len_list.append(episode_length)\n",
    "            break\n",
    "            \n",
    "print(\"Average reward: {} Average Length {}\".format(np.mean(episode_reward_list), np.mean(episode_len_list)))"
   ]
  },
  {
   "cell_type": "code",
   "execution_count": 18,
   "metadata": {},
   "outputs": [],
   "source": [
    "import torch\n",
    "device = torch.device('cuda') if torch.cuda.is_available() else torch.device('cpu')"
   ]
  },
  {
   "cell_type": "code",
   "execution_count": 19,
   "metadata": {},
   "outputs": [
    {
     "data": {
      "text/plain": [
       "device(type='cuda')"
      ]
     },
     "execution_count": 19,
     "metadata": {},
     "output_type": "execute_result"
    }
   ],
   "source": [
    "device"
   ]
  },
  {
   "cell_type": "code",
   "execution_count": 20,
   "metadata": {},
   "outputs": [],
   "source": [
    "env = gym.make('FrozenLakeNotSlippery-v0')\n",
    "state_size = env.nS\n",
    "action_size = env.nA\n",
    "\n",
    "trial = 100\n",
    "samples = 100\n",
    "learning_rate = 0.1\n",
    "keep_best = int(0.2 * samples)"
   ]
  },
  {
   "cell_type": "code",
   "execution_count": 23,
   "metadata": {},
   "outputs": [],
   "source": [
    "def run_sample_tensor(env, policy, state_size, action_size, device):\n",
    "    state = env.reset()\n",
    "    action_count = torch.zeros((state_size, action_size)).to(device)\n",
    "    total_reward = torch.zeros((1)).to(device)\n",
    "    while True:\n",
    "        action = np.random.choice(action_size, p=policy[state])\n",
    "        action_count[state, action] += 1\n",
    "        state, reward, done, info = env.step(action)\n",
    "        total_reward += reward\n",
    "        if done:\n",
    "            break\n",
    "    return total_reward, action_count"
   ]
  },
  {
   "cell_type": "code",
   "execution_count": null,
   "metadata": {},
   "outputs": [],
   "source": [
    "def update_policy(policy, s_list, learning_rate, keep):\n",
    "    s_list.sort(key=lambda x:x[0], reverse=True)\n",
    "    s_list = s_list[:keep]\n",
    "    \n",
    "    best_policy = np.zeros(np.shape(policy))\n",
    "    for s in s_list:\n",
    "        best_policy += s[1]\n",
    "        \n",
    "    for i in range(len(best_policy)):\n",
    "        total_actions = np.sum(best_policy[i])\n",
    "        if total_actions > 0:\n",
    "            policy[i] = (best_policy[i] / total_actions) * learning_rate + policy[i] * (1. - learning_rate)\n",
    "            \n",
    "    policy = policy / np.sum(policy, axis=1)[:, None]\n",
    "    \n",
    "    return policy"
   ]
  },
  {
   "cell_type": "code",
   "execution_count": null,
   "metadata": {},
   "outputs": [],
   "source": [
    "policy_tensor = torch.ones((state_size, action_size)).to(device) / action_size\n",
    "\n",
    "for t in range(trial):\n",
    "    sample_tensor = torch.zeros((samples, state_size, action_size)).to(device)\n",
    "    reward_tensor = torch.zeros((samples)).to(device)\n",
    "    policy_array = policy_tensor.cpu().numpy()\n",
    "    \n",
    "    for s in range(samples):\n",
    "        reward, action_table_tensor = run_sample_tensor(env, policy_array, state_size, action_size, device)\n",
    "        reward_tensor[s] = reward\n",
    "        sample_tensor[s] = action_table_tensor\n",
    "    policy_tensor = update_policy_tensor(policy_tensor, sample_tensor, reward_tensor, learning_rate, smoothing_factor, action_size, keep_best, device)"
   ]
  }
 ],
 "metadata": {
  "kernelspec": {
   "display_name": "Python 3",
   "language": "python",
   "name": "python3"
  },
  "language_info": {
   "codemirror_mode": {
    "name": "ipython",
    "version": 3
   },
   "file_extension": ".py",
   "mimetype": "text/x-python",
   "name": "python",
   "nbconvert_exporter": "python",
   "pygments_lexer": "ipython3",
   "version": "3.7.6"
  }
 },
 "nbformat": 4,
 "nbformat_minor": 4
}
