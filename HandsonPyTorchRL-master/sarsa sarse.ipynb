{
 "cells": [
  {
   "cell_type": "code",
   "execution_count": 4,
   "metadata": {},
   "outputs": [],
   "source": [
    "import io\n",
    "import numpy as np\n",
    "import sys\n",
    "from gym.envs.toy_text import discrete\n",
    "import pprint"
   ]
  },
  {
   "cell_type": "code",
   "execution_count": 2,
   "metadata": {},
   "outputs": [],
   "source": [
    "UP = 0\n",
    "RIGHT = 1\n",
    "DOWN = 2\n",
    "LEFT = 3"
   ]
  },
  {
   "cell_type": "code",
   "execution_count": 5,
   "metadata": {},
   "outputs": [],
   "source": [
    "def choose_action(env, q_table, state, epsilon=0.1):\n",
    "    if np.random.rand() < epsilon:\n",
    "        return env.action_space.sample()\n",
    "    return np.argmax(q_table[state])"
   ]
  },
  {
   "cell_type": "code",
   "execution_count": 7,
   "metadata": {},
   "outputs": [],
   "source": [
    "def sarsa_q_value_estimate(env, episodes=1000, alpha=0.05, discount_factor=1.0, epsilon=0.1):\n",
    "    state_size = env.nS\n",
    "    action_size = env.nA\n",
    "    q_value_array = np.zeros((state_size, action_size))\n",
    "    \n",
    "    current_state = env.reset()\n",
    "    eg_action = choose_action(env, q_value_array, current_state, epsilon)\n",
    "    \n",
    "    current_episode = 0\n",
    "    \n",
    "    while current_episode < episodes:\n",
    "        next_state, rew, done, info = env.step(eg_action)\n",
    "        next_action = choose_action(q_value_array, current_state, epsilon)\n",
    "        \n",
    "        q_value_array[current_state, eg_action] = q_value_array[current_state, eg_action] + \\\n",
    "        alpha * (rew + discount_factor * q_value_array[next_state, next_action] - q_value_array[current_state, eg_action])\n",
    "        \n",
    "        if done:\n",
    "            current_state = env.reset()\n",
    "            eg_action = choose_action(env, q_value_array, current_state, epsilon)\n",
    "            current_episode += 1\n",
    "        else:\n",
    "            current_state = next_state\n",
    "            eg_action = next_action\n",
    "            \n",
    "    return q_value_array\n",
    "        \n",
    "        "
   ]
  },
  {
   "cell_type": "code",
   "execution_count": 8,
   "metadata": {},
   "outputs": [],
   "source": [
    "def sarse_q_value_estimate(env, episodes=1000, alpha=0.05, discount_factor=1.0, epsilon=0.1):\n",
    "    state_size = env.nS\n",
    "    action_size = env.nA\n",
    "    q_value_array = np.zeros((state_size, action_size))\n",
    "    current_state = env.reset()\n",
    "    \n",
    "    random_prob = epsilon / action_size\n",
    "    greedy_prob = 1. - epsilon\n",
    "    \n",
    "    current_episode = 0\n",
    "    while current_episode < episodes:\n",
    "        if np.random.rand() < epsilon:\n",
    "            eg_action = env.action_space.sample()\n",
    "        else:\n",
    "            eg_action = np.argmax(q_value_array[current_state])\n",
    "            \n",
    "        next_state, rew, done, info = env.step(eg_action)\n",
    "        action_probs = np.array([random_prob]*action_size)\n",
    "        action_probs[np.argmax(q_value_array[next_state])] += greedy_prob\n",
    "        \n",
    "        next_action_value_estimate = 0.\n",
    "        for i in range(action_size):\n",
    "            next_action_value_estimate += action_probs[i] * q_value_array[next_state, i]\n",
    "            \n",
    "        q_value_array[current_state, eg_action] = q_value_array[current_state, eg_action] + \\\n",
    "        alpha * (rew + discount_factor * next_action_value_estimate - q_value_array[current_state, eg_action])\n",
    "        \n",
    "        if done:\n",
    "            current_state = env.reset()\n",
    "            current_episode += 1\n",
    "        else:\n",
    "            current_state = next_state\n",
    "            \n",
    "    return q_value_array\n",
    "            "
   ]
  },
  {
   "cell_type": "code",
   "execution_count": null,
   "metadata": {},
   "outputs": [],
   "source": []
  }
 ],
 "metadata": {
  "kernelspec": {
   "display_name": "Python 3",
   "language": "python",
   "name": "python3"
  },
  "language_info": {
   "codemirror_mode": {
    "name": "ipython",
    "version": 3
   },
   "file_extension": ".py",
   "mimetype": "text/x-python",
   "name": "python",
   "nbconvert_exporter": "python",
   "pygments_lexer": "ipython3",
   "version": "3.7.6"
  }
 },
 "nbformat": 4,
 "nbformat_minor": 4
}
