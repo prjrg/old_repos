{
 "cells": [
  {
   "cell_type": "code",
   "execution_count": 1,
   "metadata": {},
   "outputs": [],
   "source": [
    "import gym\n",
    "import numpy as np"
   ]
  },
  {
   "cell_type": "code",
   "execution_count": 2,
   "metadata": {},
   "outputs": [],
   "source": [
    "def value_iteration(env_model, discount, theta=0.0001):\n",
    "    state_len = env.nS\n",
    "    action_len = env.nA\n",
    "    delta = theta * 2\n",
    "    states = np.zeros((state_len))\n",
    "    while delta>theta:\n",
    "        delta = 0\n",
    "        for s in range(state_len):\n",
    "            temp_array = np.zeros((action_len))\n",
    "            for a in range(action_len):\n",
    "                transitions_list = env_model[s][a]\n",
    "                for i in transitions_list:\n",
    "                    transition_prob, next_state, reward, done = i\n",
    "                    if done:\n",
    "                        temp_array[a] += transition_prob * reward\n",
    "                    else:\n",
    "                        temp_array[a] += transition_prob * (reward + discount * states[next_state])\n",
    "            v_max = np.max(temp_array)\n",
    "            delta = max(delta, np.abs(v_max - states[s]))\n",
    "            states[s] = v_max\n",
    "            \n",
    "    policy = np.zeros((state_len, action_len))\n",
    "    \n",
    "    for s in range(state_len):\n",
    "        temp_array = np.zeros((action_len))\n",
    "        for a in range(action_len):\n",
    "            transitions_list = env_model[s][a]\n",
    "            for i in transitions_list:\n",
    "                transition_prob, next_state, reward, done = i\n",
    "                temp_array[a] += transition_prob * (reward + discount * states[next_state])\n",
    "        policy[s, np.argmax(temp_array)] = 1.\n",
    "        \n",
    "    return states, policy"
   ]
  },
  {
   "cell_type": "code",
   "execution_count": 3,
   "metadata": {},
   "outputs": [],
   "source": [
    "from gym.envs.registration import register\n",
    "register(\n",
    "    id='FrozenLakeNotSlippery-v0',\n",
    "    entry_point='gym.envs.toy_text:FrozenLakeEnv',\n",
    "    kwargs={'map_name' : '4x4', 'is_slippery': False},\n",
    "    max_episode_steps=100,\n",
    "    reward_threshold=0.78, # optimum = .8196\n",
    ")"
   ]
  },
  {
   "cell_type": "code",
   "execution_count": 4,
   "metadata": {},
   "outputs": [],
   "source": [
    "env = gym.make('FrozenLakeNotSlippery-v0')\n",
    "\n",
    "gamma = 0.99\n",
    "state_value_array, policy_array = value_iteration(env.P, gamma)"
   ]
  },
  {
   "cell_type": "code",
   "execution_count": 5,
   "metadata": {},
   "outputs": [
    {
     "data": {
      "text/plain": [
       "array([[0., 1., 0., 0.],\n",
       "       [0., 0., 1., 0.],\n",
       "       [0., 1., 0., 0.],\n",
       "       [1., 0., 0., 0.],\n",
       "       [0., 1., 0., 0.],\n",
       "       [1., 0., 0., 0.],\n",
       "       [0., 1., 0., 0.],\n",
       "       [1., 0., 0., 0.],\n",
       "       [0., 0., 1., 0.],\n",
       "       [0., 1., 0., 0.],\n",
       "       [0., 1., 0., 0.],\n",
       "       [1., 0., 0., 0.],\n",
       "       [1., 0., 0., 0.],\n",
       "       [0., 0., 1., 0.],\n",
       "       [0., 0., 1., 0.],\n",
       "       [1., 0., 0., 0.]])"
      ]
     },
     "execution_count": 5,
     "metadata": {},
     "output_type": "execute_result"
    }
   ],
   "source": [
    "np.round(policy_array.reshape(16, 4), 3)"
   ]
  },
  {
   "cell_type": "code",
   "execution_count": null,
   "metadata": {},
   "outputs": [],
   "source": []
  }
 ],
 "metadata": {
  "kernelspec": {
   "display_name": "Python 3",
   "language": "python",
   "name": "python3"
  },
  "language_info": {
   "codemirror_mode": {
    "name": "ipython",
    "version": 3
   },
   "file_extension": ".py",
   "mimetype": "text/x-python",
   "name": "python",
   "nbconvert_exporter": "python",
   "pygments_lexer": "ipython3",
   "version": "3.7.6"
  }
 },
 "nbformat": 4,
 "nbformat_minor": 4
}
