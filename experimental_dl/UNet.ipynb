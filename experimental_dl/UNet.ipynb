{
 "cells": [
  {
   "cell_type": "code",
   "execution_count": 1,
   "metadata": {},
   "outputs": [],
   "source": [
    "import os\n",
    "if not os.path.exists('dataset1'):\n",
    "    !wget -q \\\n",
    "     https://www.dropbox.com/s/0pigmmmynbf9xwq/dataset1.zip\n",
    "    !unzip -q dataset1.zip\n",
    "    !rm dataset1.zip\n",
    "    !pip install -q torch_snippets pytorch_model_summary\n",
    "\n",
    "from torch_snippets import *\n",
    "from torchvision import transforms\n",
    "from sklearn.model_selection import train_test_split\n",
    "device = 'cuda:1' if torch.cuda.is_available() else 'cpu'"
   ]
  },
  {
   "cell_type": "code",
   "execution_count": 2,
   "metadata": {},
   "outputs": [],
   "source": [
    "tfms = transforms.Compose([\n",
    "            transforms.ToTensor(),\n",
    "            transforms.Normalize([0.485, 0.456, 0.406], \n",
    "                                 [0.229, 0.224, 0.225]) \n",
    "        ])"
   ]
  },
  {
   "cell_type": "code",
   "execution_count": 6,
   "metadata": {},
   "outputs": [],
   "source": [
    "class SegData(Dataset):\n",
    "    def __init__(self, split):\n",
    "        self.items=stems(f'dataset1/images_prepped_{split}')\n",
    "        self.split = split\n",
    "    def __len__(self):\n",
    "        return len(self.items)\n",
    "    def __getitem__(self, ix):\n",
    "        image = read(f'dataset1/images_prepped_{self.split}/{self.items[ix]}.png', 1)\n",
    "        image = cv2.resize(image, (224,224))\n",
    "        mask=read(f'dataset1/annotations_prepped_{self.split}/{self.items[ix]}.png')\n",
    "        mask = cv2.resize(mask, (224,224))\n",
    "        return image, mask\n",
    "    def choose(self): return self[randint(len(self))]\n",
    "    def collate_fn(self, batch):\n",
    "        ims, masks = list(zip(*batch))\n",
    "        ims = torch.cat([tfms(im.copy()/255.)[None] for im in ims]).float().to(device)\n",
    "        ce_masks = torch.cat([torch.Tensor(mask[None]) for mask in masks]).long().to(device)\n",
    "        return ims, ce_masks"
   ]
  },
  {
   "cell_type": "code",
   "execution_count": 7,
   "metadata": {},
   "outputs": [
    {
     "name": "stderr",
     "output_type": "stream",
     "text": [
      "2020-12-21 14:51:42.141 | INFO     | torch_snippets.loader:Glob:190 - 367 files found at dataset1/images_prepped_train\n",
      "2020-12-21 14:51:42.143 | INFO     | torch_snippets.loader:Glob:190 - 101 files found at dataset1/images_prepped_test\n"
     ]
    }
   ],
   "source": [
    "trn_ds = SegData('train')\n",
    "val_ds = SegData('test')\n",
    "trn_dl = DataLoader(trn_ds, batch_size=4, shuffle=True, \\\n",
    "                    collate_fn=trn_ds.collate_fn)\n",
    "val_dl = DataLoader(val_ds, batch_size=1, shuffle=True, \\\n",
    "                    collate_fn=val_ds.collate_fn)"
   ]
  },
  {
   "cell_type": "code",
   "execution_count": 8,
   "metadata": {},
   "outputs": [],
   "source": [
    "def conv(in_channels, out_channels):\n",
    "    return nn.Sequential(\n",
    "        nn.Conv2d(in_channels,out_channels,kernel_size=3, \\\n",
    "                    stride=1, padding=1),\n",
    "        nn.BatchNorm2d(out_channels),\n",
    "        nn.ReLU(inplace=True)\n",
    "    )"
   ]
  },
  {
   "cell_type": "code",
   "execution_count": 9,
   "metadata": {},
   "outputs": [],
   "source": [
    "def up_conv(in_channels, out_channels):\n",
    "    return nn.Sequential(\n",
    "        nn.ConvTranspose2d(in_channels, out_channels, \\\n",
    "                           kernel_size=2, stride=2),\n",
    "        nn.ReLU(inplace=True)\n",
    "    )"
   ]
  },
  {
   "cell_type": "code",
   "execution_count": 10,
   "metadata": {},
   "outputs": [],
   "source": [
    "from torchvision.models import vgg16_bn"
   ]
  },
  {
   "cell_type": "code",
   "execution_count": 11,
   "metadata": {},
   "outputs": [],
   "source": [
    "class UNet(nn.Module):\n",
    "    def __init__(self, pretrained=True, out_channels=12):\n",
    "        super().__init__()\n",
    "\n",
    "        self.encoder = vgg16_bn(pretrained=pretrained).features\n",
    "        self.block1 = nn.Sequential(*self.encoder[:6])\n",
    "        self.block2 = nn.Sequential(*self.encoder[6:13])\n",
    "        self.block3 = nn.Sequential(*self.encoder[13:20])\n",
    "        self.block4 = nn.Sequential(*self.encoder[20:27])\n",
    "        self.block5 = nn.Sequential(*self.encoder[27:34])\n",
    "\n",
    "        self.bottleneck = nn.Sequential(*self.encoder[34:])\n",
    "        self.conv_bottleneck = conv(512, 1024)\n",
    "\n",
    "        self.up_conv6 = up_conv(1024, 512)\n",
    "        self.conv6 = conv(512 + 512, 512)\n",
    "        self.up_conv7 = up_conv(512, 256)\n",
    "        self.conv7 = conv(256 + 512, 256)\n",
    "        self.up_conv8 = up_conv(256, 128)\n",
    "        self.conv8 = conv(128 + 256, 128)\n",
    "        self.up_conv9 = up_conv(128, 64)\n",
    "        self.conv9 = conv(64 + 128, 64)\n",
    "        self.up_conv10 = up_conv(64, 32)\n",
    "        self.conv10 = conv(32 + 64, 32)\n",
    "        self.conv11 = nn.Conv2d(32, out_channels, kernel_size=1)\n",
    "        \n",
    "    def forward(self, x):\n",
    "        block1 = self.block1(x)\n",
    "        block2 = self.block2(block1)\n",
    "        block3 = self.block3(block2)\n",
    "        block4 = self.block4(block3)\n",
    "        block5 = self.block5(block4)\n",
    "\n",
    "        bottleneck = self.bottleneck(block5)\n",
    "        x = self.conv_bottleneck(bottleneck)\n",
    "\n",
    "        x = self.up_conv6(x)\n",
    "        x = torch.cat([x, block5], dim=1)\n",
    "        x = self.conv6(x)\n",
    "\n",
    "        x = self.up_conv7(x)\n",
    "        x = torch.cat([x, block4], dim=1)\n",
    "        x = self.conv7(x)\n",
    "\n",
    "        x = self.up_conv8(x)\n",
    "        x = torch.cat([x, block3], dim=1)\n",
    "        x = self.conv8(x)\n",
    "\n",
    "        x = self.up_conv9(x)\n",
    "        x = torch.cat([x, block2], dim=1)\n",
    "        x = self.conv9(x)\n",
    "\n",
    "        x = self.up_conv10(x)\n",
    "        x = torch.cat([x, block1], dim=1)\n",
    "        x = self.conv10(x)\n",
    "\n",
    "        x = self.conv11(x)\n",
    "\n",
    "        return x\n"
   ]
  },
  {
   "cell_type": "code",
   "execution_count": 12,
   "metadata": {},
   "outputs": [],
   "source": [
    "ce = nn.CrossEntropyLoss()\n",
    "def UnetLoss(preds, targets):\n",
    "    ce_loss = ce(preds, targets)\n",
    "    acc = (torch.max(preds, 1)[1] == targets).float().mean()\n",
    "    return ce_loss, acc"
   ]
  },
  {
   "cell_type": "code",
   "execution_count": 13,
   "metadata": {},
   "outputs": [],
   "source": [
    "def train_batch(model, data, optimizer, criterion):\n",
    "    model.train()\n",
    "    ims, ce_masks = data\n",
    "    _masks = model(ims)\n",
    "    optimizer.zero_grad()\n",
    "    loss, acc = criterion(_masks, ce_masks)\n",
    "    loss.backward()\n",
    "    optimizer.step()\n",
    "    return loss.item(), acc.item()\n",
    "\n",
    "@torch.no_grad()\n",
    "def validate_batch(model, data, criterion):\n",
    "    model.eval()\n",
    "    ims, masks = data\n",
    "    _masks = model(ims)\n",
    "    loss, acc = criterion(_masks, masks)\n",
    "    return loss.item(), acc.item()"
   ]
  },
  {
   "cell_type": "code",
   "execution_count": 14,
   "metadata": {},
   "outputs": [
    {
     "name": "stderr",
     "output_type": "stream",
     "text": [
      "Downloading: \"https://download.pytorch.org/models/vgg16_bn-6c64b313.pth\" to /home/pedro/.cache/torch/hub/checkpoints/vgg16_bn-6c64b313.pth\n"
     ]
    },
    {
     "data": {
      "application/vnd.jupyter.widget-view+json": {
       "model_id": "26e9c933b8164608920469bbc9ba2912",
       "version_major": 2,
       "version_minor": 0
      },
      "text/plain": [
       "HBox(children=(HTML(value=''), FloatProgress(value=0.0, max=553507836.0), HTML(value='')))"
      ]
     },
     "metadata": {},
     "output_type": "display_data"
    },
    {
     "name": "stdout",
     "output_type": "stream",
     "text": [
      "\n"
     ]
    }
   ],
   "source": [
    "model = UNet().to(device)\n",
    "criterion = UnetLoss\n",
    "optimizer = optim.Adam(model.parameters(), lr=1e-3)\n",
    "n_epochs = 20"
   ]
  },
  {
   "cell_type": "code",
   "execution_count": 15,
   "metadata": {},
   "outputs": [
    {
     "name": "stdout",
     "output_type": "stream",
     "text": [
      "EPOCH: 1.000\ttrn_loss: 1.345\ttrn_acc: 0.713\tval_loss: 0.832\tval_acc: 0.788\t(7.62s - 144.81s remaining)\n",
      "EPOCH: 2.000\ttrn_loss: 0.733\ttrn_acc: 0.824\tval_loss: 0.640\tval_acc: 0.843\t(14.80s - 133.17s remaining)\n",
      "EPOCH: 3.000\ttrn_loss: 0.583\ttrn_acc: 0.848\tval_loss: 0.569\tval_acc: 0.856\t(21.91s - 124.16s remaining)\n",
      "EPOCH: 4.000\ttrn_loss: 0.513\ttrn_acc: 0.862\tval_loss: 0.591\tval_acc: 0.840\t(29.02s - 116.09s remaining)\n",
      "EPOCH: 5.000\ttrn_loss: 0.471\ttrn_acc: 0.871\tval_loss: 0.621\tval_acc: 0.841\t(36.14s - 108.42s remaining)\n",
      "EPOCH: 6.000\ttrn_loss: 0.437\ttrn_acc: 0.878\tval_loss: 0.708\tval_acc: 0.760\t(43.24s - 100.89s remaining)\n",
      "EPOCH: 7.000\ttrn_loss: 0.415\ttrn_acc: 0.884\tval_loss: 0.587\tval_acc: 0.810\t(50.35s - 93.51s remaining)\n",
      "EPOCH: 8.000\ttrn_loss: 0.374\ttrn_acc: 0.893\tval_loss: 0.492\tval_acc: 0.842\t(57.49s - 86.23s remaining)\n",
      "EPOCH: 9.000\ttrn_loss: 0.355\ttrn_acc: 0.898\tval_loss: 0.420\tval_acc: 0.872\t(64.62s - 78.98s remaining)\n",
      "EPOCH: 10.000\ttrn_loss: 0.355\ttrn_acc: 0.897\tval_loss: 0.488\tval_acc: 0.850\t(71.77s - 71.77s remaining)\n",
      "EPOCH: 11.000\ttrn_loss: 0.315\ttrn_acc: 0.910\tval_loss: 0.417\tval_acc: 0.876\t(78.94s - 64.59s remaining)\n",
      "EPOCH: 12.000\ttrn_loss: 0.335\ttrn_acc: 0.904\tval_loss: 0.492\tval_acc: 0.862\t(86.08s - 57.39s remaining)\n",
      "EPOCH: 13.000\ttrn_loss: 0.355\ttrn_acc: 0.898\tval_loss: 0.403\tval_acc: 0.877\t(93.23s - 50.20s remaining)\n",
      "EPOCH: 14.000\ttrn_loss: 0.296\ttrn_acc: 0.915\tval_loss: 0.396\tval_acc: 0.886\t(100.39s - 43.03s remaining)\n",
      "EPOCH: 15.000\ttrn_loss: 0.265\ttrn_acc: 0.925\tval_loss: 0.411\tval_acc: 0.885\t(107.56s - 35.85s remaining)\n",
      "EPOCH: 16.000\ttrn_loss: 0.254\ttrn_acc: 0.928\tval_loss: 0.401\tval_acc: 0.893\t(114.75s - 28.69s remaining)\n",
      "EPOCH: 17.000\ttrn_loss: 0.251\ttrn_acc: 0.929\tval_loss: 0.409\tval_acc: 0.891\t(121.94s - 21.52s remaining)\n",
      "EPOCH: 18.000\ttrn_loss: 0.235\ttrn_acc: 0.934\tval_loss: 0.371\tval_acc: 0.899\t(129.13s - 14.35s remaining)\n",
      "EPOCH: 19.000\ttrn_loss: 0.234\ttrn_acc: 0.934\tval_loss: 0.385\tval_acc: 0.894\t(136.35s - 7.18s remaining)\n",
      "EPOCH: 20.000\ttrn_loss: 0.228\ttrn_acc: 0.936\tval_loss: 0.365\tval_acc: 0.905\t(143.55s - 0.00s remaining)\n"
     ]
    }
   ],
   "source": [
    "log = Report(n_epochs)\n",
    "for ex in range(n_epochs):\n",
    "    N = len(trn_dl)\n",
    "    for bx, data in enumerate(trn_dl):\n",
    "        loss, acc = train_batch(model, data, optimizer, \\\n",
    "                                criterion)\n",
    "        log.record(ex+(bx+1)/N,trn_loss=loss,trn_acc=acc, \\\n",
    "                                 end='\\r')\n",
    "\n",
    "    N = len(val_dl)\n",
    "    for bx, data in enumerate(val_dl):\n",
    "        loss, acc = validate_batch(model, data, criterion)\n",
    "        log.record(ex+(bx+1)/N,val_loss=loss,val_acc=acc, \\\n",
    "                                 end='\\r')\n",
    "        \n",
    "    log.report_avgs(ex+1)"
   ]
  },
  {
   "cell_type": "code",
   "execution_count": 16,
   "metadata": {},
   "outputs": [
    {
     "name": "stderr",
     "output_type": "stream",
     "text": [
      "  0%|          | 0/21 [00:00<?, ?it/s]/home/pedro/anaconda3/envs/science/lib/python3.8/site-packages/numpy/core/fromnumeric.py:3372: RuntimeWarning: Mean of empty slice.\n",
      "  return _methods._mean(a, axis=axis, dtype=dtype,\n",
      "/home/pedro/anaconda3/envs/science/lib/python3.8/site-packages/numpy/core/_methods.py:170: RuntimeWarning: invalid value encountered in double_scalars\n",
      "  ret = ret.dtype.type(ret / rcount)\n",
      "100%|██████████| 21/21 [00:00<00:00, 3259.82it/s]\n"
     ]
    },
    {
     "data": {
      "image/png": "[encoded data removed]",
      "text/plain": [
       "<Figure size 576x432 with 1 Axes>"
      ]
     },
     "metadata": {
      "needs_background": "light"
     },
     "output_type": "display_data"
    }
   ],
   "source": [
    "log.plot_epochs(['trn_loss','val_loss'])"
   ]
  },
  {
   "cell_type": "code",
   "execution_count": 17,
   "metadata": {},
   "outputs": [],
   "source": [
    "im, mask = next(iter(val_dl))\n",
    "_mask = model(im)"
   ]
  },
  {
   "cell_type": "code",
   "execution_count": 18,
   "metadata": {},
   "outputs": [],
   "source": [
    "_, _mask = torch.max(_mask, dim=1)"
   ]
  },
  {
   "cell_type": "code",
   "execution_count": 19,
   "metadata": {},
   "outputs": [
    {
     "name": "stderr",
     "output_type": "stream",
     "text": [
      "2020-12-21 15:01:18.566 | INFO     | torch_snippets.loader:subplots:385 - plotting 3 images in a grid of 1x3 @ (5, 5)\n"
     ]
    },
    {
     "data": {
      "image/png": "[encoded data removed]",
      "text/plain": [
       "<Figure size 360x360 with 3 Axes>"
      ]
     },
     "metadata": {
      "needs_background": "light"
     },
     "output_type": "display_data"
    }
   ],
   "source": [
    "subplots([im[0].permute(1,2,0).detach().cpu()[:,:,0], \\\n",
    "          mask.permute(1,2,0).detach().cpu()[:,:,0], \\\n",
    "          _mask.permute(1,2,0).detach().cpu()[:,:,0]],nc=3, \\\n",
    "          titles=['Original image','Original mask', \\\n",
    "          'Predicted mask'])"
   ]
  },
  {
   "cell_type": "code",
   "execution_count": null,
   "metadata": {},
   "outputs": [],
   "source": []
  }
 ],
 "metadata": {
  "kernelspec": {
   "display_name": "Python 3",
   "language": "python",
   "name": "python3"
  },
  "language_info": {
   "codemirror_mode": {
    "name": "ipython",
    "version": 3
   },
   "file_extension": ".py",
   "mimetype": "text/x-python",
   "name": "python",
   "nbconvert_exporter": "python",
   "pygments_lexer": "ipython3",
   "version": "3.8.6"
  }
 },
 "nbformat": 4,
 "nbformat_minor": 4
}
