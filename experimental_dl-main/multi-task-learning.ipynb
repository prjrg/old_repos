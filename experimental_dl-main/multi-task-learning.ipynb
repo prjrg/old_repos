{
 "cells": [
  {
   "cell_type": "code",
   "execution_count": 1,
   "metadata": {},
   "outputs": [],
   "source": [
    "import torch\n",
    "import numpy as np, cv2, pandas as pd, glob, time\n",
    "import matplotlib.pyplot as plt\n",
    "%matplotlib inline\n",
    "import torch.nn as nn\n",
    "from torch import optim\n",
    "import torch.nn.functional as F\n",
    "from torch.utils.data import Dataset, DataLoader\n",
    "import torchvision\n",
    "from torchvision import transforms, models, datasets\n",
    "device = 'cuda:0' if torch.cuda.is_available() else 'cpu'"
   ]
  },
  {
   "cell_type": "code",
   "execution_count": 2,
   "metadata": {},
   "outputs": [
    {
     "name": "stdout",
     "output_type": "stream",
     "text": [
      "Collecting torch_snippets\n",
      "  Downloading torch_snippets-0.240-py3-none-any.whl (12 kB)\n",
      "Requirement already satisfied: tqdm in /home/pedro/anaconda3/envs/science/lib/python3.8/site-packages (from torch_snippets) (4.54.1)\n",
      "Requirement already satisfied: numpy in /home/pedro/anaconda3/envs/science/lib/python3.8/site-packages (from torch_snippets) (1.19.2)\n",
      "Requirement already satisfied: matplotlib in /home/pedro/anaconda3/envs/science/lib/python3.8/site-packages (from torch_snippets) (3.3.3)\n",
      "Requirement already satisfied: Pillow in /home/pedro/anaconda3/envs/science/lib/python3.8/site-packages (from torch_snippets) (8.0.1)\n",
      "Requirement already satisfied: pandas in /home/pedro/anaconda3/envs/science/lib/python3.8/site-packages (from torch_snippets) (1.1.3)\n",
      "Collecting dill\n",
      "  Downloading dill-0.3.3-py2.py3-none-any.whl (81 kB)\n",
      "\u001b[K     |████████████████████████████████| 81 kB 3.8 MB/s eta 0:00:011\n",
      "\u001b[?25hCollecting loguru\n",
      "  Downloading loguru-0.5.3-py3-none-any.whl (57 kB)\n",
      "\u001b[K     |████████████████████████████████| 57 kB 10.7 MB/s eta 0:00:01\n",
      "\u001b[?25hRequirement already satisfied: python-dateutil>=2.1 in /home/pedro/anaconda3/envs/science/lib/python3.8/site-packages (from matplotlib->torch_snippets) (2.8.1)\n",
      "Requirement already satisfied: Pillow in /home/pedro/anaconda3/envs/science/lib/python3.8/site-packages (from torch_snippets) (8.0.1)\n",
      "Requirement already satisfied: numpy in /home/pedro/anaconda3/envs/science/lib/python3.8/site-packages (from torch_snippets) (1.19.2)\n",
      "Requirement already satisfied: cycler>=0.10 in /home/pedro/anaconda3/envs/science/lib/python3.8/site-packages (from matplotlib->torch_snippets) (0.10.0)\n",
      "Requirement already satisfied: kiwisolver>=1.0.1 in /home/pedro/anaconda3/envs/science/lib/python3.8/site-packages (from matplotlib->torch_snippets) (1.3.1)\n",
      "Requirement already satisfied: pyparsing!=2.0.4,!=2.1.2,!=2.1.6,>=2.0.3 in /home/pedro/anaconda3/envs/science/lib/python3.8/site-packages (from matplotlib->torch_snippets) (2.4.7)\n",
      "Requirement already satisfied: six in /home/pedro/anaconda3/envs/science/lib/python3.8/site-packages (from cycler>=0.10->matplotlib->torch_snippets) (1.15.0)\n",
      "Collecting opencv-python-headless\n",
      "  Using cached opencv_python_headless-4.4.0.46-cp38-cp38-manylinux2014_x86_64.whl (36.7 MB)\n",
      "Requirement already satisfied: numpy in /home/pedro/anaconda3/envs/science/lib/python3.8/site-packages (from torch_snippets) (1.19.2)\n",
      "Requirement already satisfied: pytz>=2017.2 in /home/pedro/anaconda3/envs/science/lib/python3.8/site-packages (from pandas->torch_snippets) (2020.1)\n",
      "Requirement already satisfied: numpy in /home/pedro/anaconda3/envs/science/lib/python3.8/site-packages (from torch_snippets) (1.19.2)\n",
      "Requirement already satisfied: python-dateutil>=2.1 in /home/pedro/anaconda3/envs/science/lib/python3.8/site-packages (from matplotlib->torch_snippets) (2.8.1)\n",
      "Requirement already satisfied: six in /home/pedro/anaconda3/envs/science/lib/python3.8/site-packages (from cycler>=0.10->matplotlib->torch_snippets) (1.15.0)\n",
      "Installing collected packages: opencv-python-headless, loguru, dill, torch-snippets\n",
      "Successfully installed dill-0.3.3 loguru-0.5.3 opencv-python-headless-4.4.0.46 torch-snippets-0.240\n"
     ]
    }
   ],
   "source": [
    "!pip install torch_snippets"
   ]
  },
  {
   "cell_type": "code",
   "execution_count": 3,
   "metadata": {},
   "outputs": [],
   "source": [
    "from torch_snippets import *"
   ]
  },
  {
   "cell_type": "code",
   "execution_count": null,
   "metadata": {},
   "outputs": [],
   "source": []
  }
 ],
 "metadata": {
  "kernelspec": {
   "display_name": "Python 3",
   "language": "python",
   "name": "python3"
  },
  "language_info": {
   "codemirror_mode": {
    "name": "ipython",
    "version": 3
   },
   "file_extension": ".py",
   "mimetype": "text/x-python",
   "name": "python",
   "nbconvert_exporter": "python",
   "pygments_lexer": "ipython3",
   "version": "3.8.6"
  }
 },
 "nbformat": 4,
 "nbformat_minor": 4
}
