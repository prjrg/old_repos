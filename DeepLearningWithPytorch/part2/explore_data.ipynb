{
 "cells": [
  {
   "cell_type": "code",
   "execution_count": 4,
   "metadata": {},
   "outputs": [],
   "source": [
    "from dsets import getCandidateInfoList, getCt, LunaDataset"
   ]
  },
  {
   "cell_type": "code",
   "execution_count": 5,
   "metadata": {},
   "outputs": [],
   "source": [
    "candidateInfo_list = getCandidateInfoList(requireDataOnDisk_bool=False)"
   ]
  },
  {
   "cell_type": "code",
   "execution_count": 6,
   "metadata": {},
   "outputs": [],
   "source": [
    "malignantInfo_list =  [x for x in candidateInfo_list if x[0]]"
   ]
  },
  {
   "cell_type": "code",
   "execution_count": 7,
   "metadata": {},
   "outputs": [],
   "source": [
    "diameter_list = [x[1] for x in malignantInfo_list]"
   ]
  },
  {
   "cell_type": "code",
   "execution_count": 8,
   "metadata": {},
   "outputs": [
    {
     "name": "stdout",
     "output_type": "stream",
     "text": [
      "   0 32.3 mm\n",
      " 100 17.7 mm\n",
      " 200 13.0 mm\n",
      " 300 10.0 mm\n",
      " 400  8.2 mm\n",
      " 500  7.0 mm\n",
      " 600  6.3 mm\n",
      " 700  5.7 mm\n",
      " 800  5.1 mm\n",
      " 900  4.7 mm\n",
      "1000  4.0 mm\n",
      "1100  0.0 mm\n",
      "1200  0.0 mm\n",
      "1300  0.0 mm\n"
     ]
    }
   ],
   "source": [
    "for i in range(0, len(diameter_list), 100):\n",
    "    print('{:4} {:4.1f} mm'.format(i, diameter_list[i]))"
   ]
  },
  {
   "cell_type": "code",
   "execution_count": null,
   "metadata": {},
   "outputs": [],
   "source": []
  }
 ],
 "metadata": {
  "kernelspec": {
   "display_name": "Python 3",
   "language": "python",
   "name": "python3"
  },
  "language_info": {
   "codemirror_mode": {
    "name": "ipython",
    "version": 3
   },
   "file_extension": ".py",
   "mimetype": "text/x-python",
   "name": "python",
   "nbconvert_exporter": "python",
   "pygments_lexer": "ipython3",
   "version": "3.7.6"
  }
 },
 "nbformat": 4,
 "nbformat_minor": 4
}
