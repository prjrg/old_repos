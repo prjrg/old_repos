{
 "cells": [
  {
   "cell_type": "code",
   "execution_count": 1,
   "metadata": {},
   "outputs": [],
   "source": [
    "import torch\n",
    "from torchvision import datasets\n",
    "from torchvision import transforms\n",
    "import numpy as np"
   ]
  },
  {
   "cell_type": "code",
   "execution_count": 2,
   "metadata": {},
   "outputs": [
    {
     "name": "stdout",
     "output_type": "stream",
     "text": [
      "Files already downloaded and verified\n",
      "Files already downloaded and verified\n"
     ]
    }
   ],
   "source": [
    "data_path = './data'\n",
    "cifar10 = datasets.CIFAR10(data_path, train=True, download=True)\n",
    "cifar10_val = datasets.CIFAR10(data_path, train=False, download=True)\n",
    "tensor_cifar10 = datasets.CIFAR10(data_path, train=True, download=False, transform=transforms.ToTensor())"
   ]
  },
  {
   "cell_type": "code",
   "execution_count": 3,
   "metadata": {},
   "outputs": [
    {
     "data": {
      "text/plain": [
       "['CenterCrop',\n",
       " 'ColorJitter',\n",
       " 'Compose',\n",
       " 'FiveCrop',\n",
       " 'Grayscale',\n",
       " 'Lambda',\n",
       " 'LinearTransformation',\n",
       " 'Normalize',\n",
       " 'Pad',\n",
       " 'RandomAffine',\n",
       " 'RandomApply',\n",
       " 'RandomChoice',\n",
       " 'RandomCrop',\n",
       " 'RandomErasing',\n",
       " 'RandomGrayscale',\n",
       " 'RandomHorizontalFlip',\n",
       " 'RandomOrder',\n",
       " 'RandomPerspective',\n",
       " 'RandomResizedCrop',\n",
       " 'RandomRotation',\n",
       " 'RandomSizedCrop',\n",
       " 'RandomVerticalFlip',\n",
       " 'Resize',\n",
       " 'Scale',\n",
       " 'TenCrop',\n",
       " 'ToPILImage',\n",
       " 'ToTensor',\n",
       " '__builtins__',\n",
       " '__cached__',\n",
       " '__doc__',\n",
       " '__file__',\n",
       " '__loader__',\n",
       " '__name__',\n",
       " '__package__',\n",
       " '__path__',\n",
       " '__spec__',\n",
       " 'functional',\n",
       " 'transforms']"
      ]
     },
     "execution_count": 3,
     "metadata": {},
     "output_type": "execute_result"
    }
   ],
   "source": [
    "dir(transforms)"
   ]
  },
  {
   "cell_type": "code",
   "execution_count": 4,
   "metadata": {},
   "outputs": [
    {
     "data": {
      "text/plain": [
       "torch.Size([3, 32, 32, 50000])"
      ]
     },
     "execution_count": 4,
     "metadata": {},
     "output_type": "execute_result"
    }
   ],
   "source": [
    "imgs = torch.stack([img_t for img_t, _ in tensor_cifar10], dim=3)\n",
    "imgs.shape"
   ]
  },
  {
   "cell_type": "code",
   "execution_count": 5,
   "metadata": {},
   "outputs": [
    {
     "data": {
      "text/plain": [
       "tensor([0.4915, 0.4823, 0.4468])"
      ]
     },
     "execution_count": 5,
     "metadata": {},
     "output_type": "execute_result"
    }
   ],
   "source": [
    "imgs.view(3, -1).mean(dim=1)"
   ]
  },
  {
   "cell_type": "code",
   "execution_count": 6,
   "metadata": {},
   "outputs": [
    {
     "data": {
      "text/plain": [
       "tensor([0.2470, 0.2435, 0.2616])"
      ]
     },
     "execution_count": 6,
     "metadata": {},
     "output_type": "execute_result"
    }
   ],
   "source": [
    "imgs.view(3, -1).std(dim=1)"
   ]
  },
  {
   "cell_type": "code",
   "execution_count": 7,
   "metadata": {},
   "outputs": [],
   "source": [
    "transformed_cifar10 = datasets.CIFAR10(data_path, train=True, download=False, transform=transforms.Compose([\n",
    "    transforms.ToTensor(),\n",
    "    transforms.Normalize(mean=(0.4915, 0.4823, 0.4468), std=(0.2470, 0.2435, 0.2616))\n",
    "]))"
   ]
  },
  {
   "cell_type": "code",
   "execution_count": 34,
   "metadata": {},
   "outputs": [],
   "source": [
    "transformed_val_cifar10 = datasets.CIFAR10(data_path, train=False, download=False, transform=transforms.Compose([\n",
    "    transforms.ToTensor(),\n",
    "    transforms.Normalize(mean=(0.4915, 0.4823, 0.4468), std=(0.2470, 0.2435, 0.2616))\n",
    "]))"
   ]
  },
  {
   "cell_type": "code",
   "execution_count": 35,
   "metadata": {},
   "outputs": [],
   "source": [
    "label_map = {0: 0, 2: 1}\n",
    "class_names = ['airplane', 'bird']\n",
    "cifar2 = [(img, label_map[label]) for img, label in transformed_cifar10 if label in [0, 2]]\n",
    "cifar2_val = [(img, label_map[label]) for img, label in transformed_val_cifar10 if label in [0, 2]]"
   ]
  },
  {
   "cell_type": "code",
   "execution_count": 19,
   "metadata": {},
   "outputs": [],
   "source": [
    "import torch.nn as nn\n",
    "import torch.optim as optim"
   ]
  },
  {
   "cell_type": "code",
   "execution_count": 20,
   "metadata": {},
   "outputs": [],
   "source": [
    "n_out = 2\n",
    "model = nn.Sequential(\n",
    "    nn.Linear(3072, 512),\n",
    "    nn.Tanh(),\n",
    "    nn.Linear(512, n_out),\n",
    "    nn.LogSoftmax(dim=1)\n",
    "    )"
   ]
  },
  {
   "cell_type": "code",
   "execution_count": null,
   "metadata": {},
   "outputs": [],
   "source": []
  },
  {
   "cell_type": "code",
   "execution_count": 22,
   "metadata": {},
   "outputs": [],
   "source": [
    "learning_rate = 1e-2"
   ]
  },
  {
   "cell_type": "code",
   "execution_count": 23,
   "metadata": {},
   "outputs": [],
   "source": [
    "optimizer = optim.SGD(model.parameters(), lr=learning_rate)"
   ]
  },
  {
   "cell_type": "code",
   "execution_count": 24,
   "metadata": {},
   "outputs": [],
   "source": [
    "loss_fn = nn.NLLLoss()"
   ]
  },
  {
   "cell_type": "code",
   "execution_count": 25,
   "metadata": {},
   "outputs": [],
   "source": [
    "n_epochs = 100"
   ]
  },
  {
   "cell_type": "markdown",
   "metadata": {},
   "source": [
    "for epoch in range(n_epochs):\n",
    "    for img, label in cifar2:\n",
    "        out = model(img.view(-1).unsqueeze(0))\n",
    "        loss = loss_fn(out, torch.tensor([label]))\n",
    "        optimizer.zero_grad()\n",
    "        loss.backward()\n",
    "        optimizer.step()\n",
    "        \n",
    "    print(\"Epoch: %d, Loss %f\" % (epoch, float(loss)))"
   ]
  },
  {
   "cell_type": "code",
   "execution_count": 28,
   "metadata": {},
   "outputs": [],
   "source": [
    "train_loader = torch.utils.data.DataLoader(cifar2, batch_size=64, shuffle=True)"
   ]
  },
  {
   "cell_type": "code",
   "execution_count": 29,
   "metadata": {},
   "outputs": [
    {
     "name": "stdout",
     "output_type": "stream",
     "text": [
      "Epoch: 0, Loss: 0.631998\n",
      "Epoch: 1, Loss: 0.505895\n",
      "Epoch: 2, Loss: 0.217186\n",
      "Epoch: 3, Loss: 0.416558\n",
      "Epoch: 4, Loss: 0.200614\n",
      "Epoch: 5, Loss: 0.430290\n",
      "Epoch: 6, Loss: 0.319100\n",
      "Epoch: 7, Loss: 0.453715\n",
      "Epoch: 8, Loss: 0.332388\n",
      "Epoch: 9, Loss: 0.334141\n",
      "Epoch: 10, Loss: 0.396666\n",
      "Epoch: 11, Loss: 0.275633\n",
      "Epoch: 12, Loss: 0.317735\n",
      "Epoch: 13, Loss: 0.437850\n",
      "Epoch: 14, Loss: 0.618088\n",
      "Epoch: 15, Loss: 0.139701\n",
      "Epoch: 16, Loss: 0.238316\n",
      "Epoch: 17, Loss: 0.113065\n",
      "Epoch: 18, Loss: 0.245610\n",
      "Epoch: 19, Loss: 0.589082\n",
      "Epoch: 20, Loss: 0.145723\n",
      "Epoch: 21, Loss: 0.088561\n",
      "Epoch: 22, Loss: 0.192270\n",
      "Epoch: 23, Loss: 0.216492\n",
      "Epoch: 24, Loss: 0.264257\n",
      "Epoch: 25, Loss: 0.152803\n",
      "Epoch: 26, Loss: 0.244084\n",
      "Epoch: 27, Loss: 0.253490\n",
      "Epoch: 28, Loss: 0.210529\n",
      "Epoch: 29, Loss: 0.160064\n",
      "Epoch: 30, Loss: 0.222224\n",
      "Epoch: 31, Loss: 0.189593\n",
      "Epoch: 32, Loss: 0.393194\n",
      "Epoch: 33, Loss: 0.198774\n",
      "Epoch: 34, Loss: 0.087401\n",
      "Epoch: 35, Loss: 0.088975\n",
      "Epoch: 36, Loss: 0.168372\n",
      "Epoch: 37, Loss: 0.104950\n",
      "Epoch: 38, Loss: 0.148939\n",
      "Epoch: 39, Loss: 0.094353\n",
      "Epoch: 40, Loss: 0.063806\n",
      "Epoch: 41, Loss: 0.126624\n",
      "Epoch: 42, Loss: 0.092976\n",
      "Epoch: 43, Loss: 0.177229\n",
      "Epoch: 44, Loss: 0.067781\n",
      "Epoch: 45, Loss: 0.055195\n",
      "Epoch: 46, Loss: 0.064602\n",
      "Epoch: 47, Loss: 0.124426\n",
      "Epoch: 48, Loss: 0.053586\n",
      "Epoch: 49, Loss: 0.046273\n",
      "Epoch: 50, Loss: 0.090505\n",
      "Epoch: 51, Loss: 0.126449\n",
      "Epoch: 52, Loss: 0.068491\n",
      "Epoch: 53, Loss: 0.153337\n",
      "Epoch: 54, Loss: 0.101533\n",
      "Epoch: 55, Loss: 0.077355\n",
      "Epoch: 56, Loss: 0.079398\n",
      "Epoch: 57, Loss: 0.020063\n",
      "Epoch: 58, Loss: 0.013884\n",
      "Epoch: 59, Loss: 0.032389\n",
      "Epoch: 60, Loss: 0.051414\n",
      "Epoch: 61, Loss: 0.058659\n",
      "Epoch: 62, Loss: 0.062241\n",
      "Epoch: 63, Loss: 0.062586\n",
      "Epoch: 64, Loss: 0.011159\n",
      "Epoch: 65, Loss: 0.014627\n",
      "Epoch: 66, Loss: 0.014222\n",
      "Epoch: 67, Loss: 0.068254\n",
      "Epoch: 68, Loss: 0.004189\n",
      "Epoch: 69, Loss: 0.036955\n",
      "Epoch: 70, Loss: 0.048450\n",
      "Epoch: 71, Loss: 0.042015\n",
      "Epoch: 72, Loss: 0.013245\n",
      "Epoch: 73, Loss: 0.070743\n",
      "Epoch: 74, Loss: 0.014601\n",
      "Epoch: 75, Loss: 0.024540\n",
      "Epoch: 76, Loss: 0.025286\n",
      "Epoch: 77, Loss: 0.022571\n",
      "Epoch: 78, Loss: 0.017319\n",
      "Epoch: 79, Loss: 0.027748\n",
      "Epoch: 80, Loss: 0.016602\n",
      "Epoch: 81, Loss: 0.036116\n",
      "Epoch: 82, Loss: 0.012230\n",
      "Epoch: 83, Loss: 0.011026\n",
      "Epoch: 84, Loss: 0.005536\n",
      "Epoch: 85, Loss: 0.033207\n",
      "Epoch: 86, Loss: 0.023712\n",
      "Epoch: 87, Loss: 0.008814\n",
      "Epoch: 88, Loss: 0.010406\n",
      "Epoch: 89, Loss: 0.007580\n",
      "Epoch: 90, Loss: 0.030037\n",
      "Epoch: 91, Loss: 0.014038\n",
      "Epoch: 92, Loss: 0.004847\n",
      "Epoch: 93, Loss: 0.015757\n",
      "Epoch: 94, Loss: 0.020437\n",
      "Epoch: 95, Loss: 0.017349\n",
      "Epoch: 96, Loss: 0.013263\n",
      "Epoch: 97, Loss: 0.014604\n",
      "Epoch: 98, Loss: 0.020063\n",
      "Epoch: 99, Loss: 0.012257\n"
     ]
    }
   ],
   "source": [
    "for epoch in range(n_epochs):\n",
    "    for imgs, labels in train_loader:\n",
    "        batch_size = imgs.shape[0]\n",
    "        outputs = model(imgs.view(batch_size, -1))\n",
    "        loss = loss_fn(outputs, labels)\n",
    "        \n",
    "        optimizer.zero_grad()\n",
    "        loss.backward()\n",
    "        optimizer.step()\n",
    "    \n",
    "    print(\"Epoch: %d, Loss: %f\" % (epoch, float(loss)))"
   ]
  },
  {
   "cell_type": "code",
   "execution_count": 36,
   "metadata": {},
   "outputs": [
    {
     "name": "stdout",
     "output_type": "stream",
     "text": [
      "Accuracy: %f 0.812\n"
     ]
    }
   ],
   "source": [
    "import torchvision.transforms as transforms\n",
    "\n",
    "val_loader = torch.utils.data.DataLoader(cifar2_val, batch_size=64, shuffle=False)\n",
    "\n",
    "correct = 0\n",
    "total = 0\n",
    "\n",
    "to_tensor = transforms.ToTensor()\n",
    "\n",
    "with torch.no_grad():\n",
    "    for imgs, labels in val_loader:\n",
    "        batch_size = imgs.shape[0]\n",
    "        outputs = model(imgs.view(batch_size, -1))\n",
    "        _, predicted = torch.max(outputs, dim=1)\n",
    "        total += labels.shape[0]\n",
    "        correct += int((predicted == labels).sum())\n",
    "        \n",
    "print(\"Accuracy: %f\", correct / total)"
   ]
  },
  {
   "cell_type": "code",
   "execution_count": 39,
   "metadata": {},
   "outputs": [],
   "source": [
    "model = nn.Sequential(\n",
    "        nn.Linear(3072, 1024),\n",
    "        nn.Tanh(),\n",
    "        nn.Linear(1024, 512),\n",
    "        nn.Tanh(),\n",
    "        nn.Linear(512, 128),\n",
    "        nn.Tanh(),\n",
    "        nn.Linear(128, 2)\n",
    "        )"
   ]
  },
  {
   "cell_type": "code",
   "execution_count": 38,
   "metadata": {},
   "outputs": [],
   "source": [
    "train_loader = torch.utils.data.DataLoader(cifar2, batch_size=64, shuffle=True)"
   ]
  },
  {
   "cell_type": "code",
   "execution_count": 40,
   "metadata": {},
   "outputs": [],
   "source": [
    "loss_fn = nn.CrossEntropyLoss()"
   ]
  },
  {
   "cell_type": "code",
   "execution_count": 41,
   "metadata": {},
   "outputs": [],
   "source": [
    "learning_rate = 1e-2"
   ]
  },
  {
   "cell_type": "code",
   "execution_count": 42,
   "metadata": {},
   "outputs": [],
   "source": [
    "optimizer = optim.SGD(model.parameters(), lr=learning_rate)"
   ]
  },
  {
   "cell_type": "code",
   "execution_count": 43,
   "metadata": {},
   "outputs": [
    {
     "name": "stdout",
     "output_type": "stream",
     "text": [
      "Epoch: 0, Loss: 0.542710\n",
      "Epoch: 1, Loss: 0.440551\n",
      "Epoch: 2, Loss: 0.376583\n",
      "Epoch: 3, Loss: 0.290062\n",
      "Epoch: 4, Loss: 0.640769\n",
      "Epoch: 5, Loss: 0.387951\n",
      "Epoch: 6, Loss: 0.560414\n",
      "Epoch: 7, Loss: 0.358832\n",
      "Epoch: 8, Loss: 0.674810\n",
      "Epoch: 9, Loss: 0.389153\n",
      "Epoch: 10, Loss: 0.420622\n",
      "Epoch: 11, Loss: 0.238805\n",
      "Epoch: 12, Loss: 0.283217\n",
      "Epoch: 13, Loss: 0.324534\n",
      "Epoch: 14, Loss: 0.160171\n",
      "Epoch: 15, Loss: 0.391469\n",
      "Epoch: 16, Loss: 0.536314\n",
      "Epoch: 17, Loss: 0.247964\n",
      "Epoch: 18, Loss: 0.171954\n",
      "Epoch: 19, Loss: 0.123365\n",
      "Epoch: 20, Loss: 0.270261\n",
      "Epoch: 21, Loss: 0.693502\n",
      "Epoch: 22, Loss: 0.260981\n",
      "Epoch: 23, Loss: 0.493363\n",
      "Epoch: 24, Loss: 0.137405\n",
      "Epoch: 25, Loss: 0.240633\n",
      "Epoch: 26, Loss: 0.437690\n",
      "Epoch: 27, Loss: 0.546059\n",
      "Epoch: 28, Loss: 0.435931\n",
      "Epoch: 29, Loss: 0.169506\n",
      "Epoch: 30, Loss: 0.593583\n",
      "Epoch: 31, Loss: 0.069936\n",
      "Epoch: 32, Loss: 0.147766\n",
      "Epoch: 33, Loss: 0.088593\n",
      "Epoch: 34, Loss: 0.167835\n",
      "Epoch: 35, Loss: 0.477304\n",
      "Epoch: 36, Loss: 0.170764\n",
      "Epoch: 37, Loss: 0.097795\n",
      "Epoch: 38, Loss: 0.224375\n",
      "Epoch: 39, Loss: 0.106205\n",
      "Epoch: 40, Loss: 0.084648\n",
      "Epoch: 41, Loss: 0.113644\n",
      "Epoch: 42, Loss: 0.141835\n",
      "Epoch: 43, Loss: 0.191586\n",
      "Epoch: 44, Loss: 0.122006\n",
      "Epoch: 45, Loss: 0.296681\n",
      "Epoch: 46, Loss: 0.134849\n",
      "Epoch: 47, Loss: 0.156447\n",
      "Epoch: 48, Loss: 0.032470\n",
      "Epoch: 49, Loss: 0.138031\n",
      "Epoch: 50, Loss: 0.059057\n",
      "Epoch: 51, Loss: 0.015196\n",
      "Epoch: 52, Loss: 0.122769\n",
      "Epoch: 53, Loss: 0.007538\n",
      "Epoch: 54, Loss: 0.175757\n",
      "Epoch: 55, Loss: 0.013150\n",
      "Epoch: 56, Loss: 0.083187\n",
      "Epoch: 57, Loss: 0.011130\n",
      "Epoch: 58, Loss: 0.005122\n",
      "Epoch: 59, Loss: 0.016715\n",
      "Epoch: 60, Loss: 0.134877\n",
      "Epoch: 61, Loss: 0.015852\n",
      "Epoch: 62, Loss: 0.003764\n",
      "Epoch: 63, Loss: 0.108568\n",
      "Epoch: 64, Loss: 0.077096\n",
      "Epoch: 65, Loss: 0.005058\n",
      "Epoch: 66, Loss: 0.007776\n",
      "Epoch: 67, Loss: 0.010239\n",
      "Epoch: 68, Loss: 0.004547\n",
      "Epoch: 69, Loss: 0.004307\n",
      "Epoch: 70, Loss: 0.003729\n",
      "Epoch: 71, Loss: 0.026532\n",
      "Epoch: 72, Loss: 0.011698\n",
      "Epoch: 73, Loss: 0.004983\n",
      "Epoch: 74, Loss: 0.004280\n",
      "Epoch: 75, Loss: 0.021770\n",
      "Epoch: 76, Loss: 0.008916\n",
      "Epoch: 77, Loss: 0.002848\n",
      "Epoch: 78, Loss: 0.008333\n",
      "Epoch: 79, Loss: 0.008651\n",
      "Epoch: 80, Loss: 0.002269\n",
      "Epoch: 81, Loss: 0.008149\n",
      "Epoch: 82, Loss: 0.019742\n",
      "Epoch: 83, Loss: 0.012518\n",
      "Epoch: 84, Loss: 0.006693\n",
      "Epoch: 85, Loss: 0.000424\n",
      "Epoch: 86, Loss: 0.001305\n",
      "Epoch: 87, Loss: 0.001884\n",
      "Epoch: 88, Loss: 0.003580\n",
      "Epoch: 89, Loss: 0.002654\n",
      "Epoch: 90, Loss: 0.001295\n",
      "Epoch: 91, Loss: 0.000642\n",
      "Epoch: 92, Loss: 0.001122\n",
      "Epoch: 93, Loss: 0.000702\n",
      "Epoch: 94, Loss: 0.000840\n",
      "Epoch: 95, Loss: 0.001096\n",
      "Epoch: 96, Loss: 0.002541\n",
      "Epoch: 97, Loss: 0.000346\n",
      "Epoch: 98, Loss: 0.000850\n",
      "Epoch: 99, Loss: 0.000757\n"
     ]
    }
   ],
   "source": [
    "for epoch in range(n_epochs):\n",
    "    for imgs, labels in train_loader:\n",
    "        batch_size = imgs.shape[0]\n",
    "        outputs = model(imgs.view(batch_size, -1))\n",
    "        loss = loss_fn(outputs, labels)\n",
    "        \n",
    "        optimizer.zero_grad()\n",
    "        loss.backward()\n",
    "        optimizer.step()\n",
    "    \n",
    "    print(\"Epoch: %d, Loss: %f\" % (epoch, float(loss)))"
   ]
  },
  {
   "cell_type": "code",
   "execution_count": 44,
   "metadata": {},
   "outputs": [
    {
     "name": "stdout",
     "output_type": "stream",
     "text": [
      "Accuracy: %f 0.809\n"
     ]
    }
   ],
   "source": [
    "correct = 0\n",
    "total = 0\n",
    "\n",
    "to_tensor = transforms.ToTensor()\n",
    "\n",
    "with torch.no_grad():\n",
    "    for imgs, labels in val_loader:\n",
    "        batch_size = imgs.shape[0]\n",
    "        outputs = model(imgs.view(batch_size, -1))\n",
    "        _, predicted = torch.max(outputs, dim=1)\n",
    "        total += labels.shape[0]\n",
    "        correct += int((predicted == labels).sum())\n",
    "        \n",
    "print(\"Accuracy: %f\", correct / total)"
   ]
  },
  {
   "cell_type": "code",
   "execution_count": null,
   "metadata": {},
   "outputs": [],
   "source": []
  }
 ],
 "metadata": {
  "kernelspec": {
   "display_name": "Python 3",
   "language": "python",
   "name": "python3"
  },
  "language_info": {
   "codemirror_mode": {
    "name": "ipython",
    "version": 3
   },
   "file_extension": ".py",
   "mimetype": "text/x-python",
   "name": "python",
   "nbconvert_exporter": "python",
   "pygments_lexer": "ipython3",
   "version": "3.7.6"
  }
 },
 "nbformat": 4,
 "nbformat_minor": 4
}
