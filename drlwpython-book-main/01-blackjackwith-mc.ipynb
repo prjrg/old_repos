{
 "cells": [
  {
   "cell_type": "code",
   "execution_count": 1,
   "metadata": {},
   "outputs": [],
   "source": [
    "import gym"
   ]
  },
  {
   "cell_type": "code",
   "execution_count": 2,
   "metadata": {},
   "outputs": [],
   "source": [
    "env = gym.make('Blackjack-v0')"
   ]
  },
  {
   "cell_type": "code",
   "execution_count": 4,
   "metadata": {},
   "outputs": [
    {
     "data": {
      "text/plain": [
       "(13, 10, False)"
      ]
     },
     "execution_count": 4,
     "metadata": {},
     "output_type": "execute_result"
    }
   ],
   "source": [
    "env.reset()"
   ]
  },
  {
   "cell_type": "code",
   "execution_count": 5,
   "metadata": {},
   "outputs": [
    {
     "data": {
      "text/plain": [
       "Discrete(2)"
      ]
     },
     "execution_count": 5,
     "metadata": {},
     "output_type": "execute_result"
    }
   ],
   "source": [
    "env.action_space"
   ]
  },
  {
   "cell_type": "markdown",
   "metadata": {},
   "source": [
    "## Every Visit MC prediction"
   ]
  },
  {
   "cell_type": "code",
   "execution_count": 8,
   "metadata": {},
   "outputs": [],
   "source": [
    "import pandas as pd\n",
    "from collections import defaultdict"
   ]
  },
  {
   "cell_type": "code",
   "execution_count": 9,
   "metadata": {},
   "outputs": [],
   "source": [
    "def policy(state):\n",
    "    return 0 if state[0]>19 else 1"
   ]
  },
  {
   "cell_type": "code",
   "execution_count": 10,
   "metadata": {},
   "outputs": [],
   "source": [
    "def generate_episode(policy):\n",
    "    num_timesteps = 200\n",
    "    episode = []\n",
    "    state = env.reset()\n",
    "    \n",
    "    for t in range(num_timesteps):\n",
    "        action = policy(state)\n",
    "        next_state, reward, done, info = env.step(action)\n",
    "        episode.append((state, action, reward))\n",
    "        \n",
    "        if done:\n",
    "            break\n",
    "        \n",
    "        state = next_state\n",
    "        \n",
    "    return episode"
   ]
  },
  {
   "cell_type": "code",
   "execution_count": 11,
   "metadata": {},
   "outputs": [],
   "source": [
    "total_return = defaultdict(float)\n",
    "N = defaultdict(int)"
   ]
  },
  {
   "cell_type": "code",
   "execution_count": 12,
   "metadata": {},
   "outputs": [],
   "source": [
    "num_iterations = 500000"
   ]
  },
  {
   "cell_type": "code",
   "execution_count": 13,
   "metadata": {},
   "outputs": [],
   "source": [
    "for i in range(num_iterations):\n",
    "    episode = generate_episode(policy)\n",
    "    states, actions, rewards = zip(*episode)\n",
    "    for t, state in enumerate(states):\n",
    "        R = sum(rewards[t:])\n",
    "        total_return[state] = total_return[state] + R\n",
    "        N[state] = N[state] + 1"
   ]
  },
  {
   "cell_type": "code",
   "execution_count": 14,
   "metadata": {},
   "outputs": [],
   "source": [
    "total_return = pd.DataFrame(total_return.items(), columns=['state', 'total_return'])\n",
    "N = pd.DataFrame(N.items(), columns=['state', 'N'])"
   ]
  },
  {
   "cell_type": "code",
   "execution_count": 15,
   "metadata": {},
   "outputs": [],
   "source": [
    "df = pd.merge(total_return, N, on='state')"
   ]
  },
  {
   "cell_type": "code",
   "execution_count": 16,
   "metadata": {},
   "outputs": [
    {
     "data": {
      "text/html": [
       "<div>\n",
       "<style scoped>\n",
       "    .dataframe tbody tr th:only-of-type {\n",
       "        vertical-align: middle;\n",
       "    }\n",
       "\n",
       "    .dataframe tbody tr th {\n",
       "        vertical-align: top;\n",
       "    }\n",
       "\n",
       "    .dataframe thead th {\n",
       "        text-align: right;\n",
       "    }\n",
       "</style>\n",
       "<table border=\"1\" class=\"dataframe\">\n",
       "  <thead>\n",
       "    <tr style=\"text-align: right;\">\n",
       "      <th></th>\n",
       "      <th>state</th>\n",
       "      <th>total_return</th>\n",
       "      <th>N</th>\n",
       "    </tr>\n",
       "  </thead>\n",
       "  <tbody>\n",
       "    <tr>\n",
       "      <th>0</th>\n",
       "      <td>(12, 2, False)</td>\n",
       "      <td>-2482.0</td>\n",
       "      <td>4574</td>\n",
       "    </tr>\n",
       "    <tr>\n",
       "      <th>1</th>\n",
       "      <td>(17, 2, False)</td>\n",
       "      <td>-3642.0</td>\n",
       "      <td>5269</td>\n",
       "    </tr>\n",
       "    <tr>\n",
       "      <th>2</th>\n",
       "      <td>(21, 8, True)</td>\n",
       "      <td>2216.0</td>\n",
       "      <td>2366</td>\n",
       "    </tr>\n",
       "    <tr>\n",
       "      <th>3</th>\n",
       "      <td>(16, 1, False)</td>\n",
       "      <td>-3753.0</td>\n",
       "      <td>5148</td>\n",
       "    </tr>\n",
       "    <tr>\n",
       "      <th>4</th>\n",
       "      <td>(13, 10, False)</td>\n",
       "      <td>-11442.0</td>\n",
       "      <td>18902</td>\n",
       "    </tr>\n",
       "    <tr>\n",
       "      <th>5</th>\n",
       "      <td>(17, 10, False)</td>\n",
       "      <td>-14852.0</td>\n",
       "      <td>21144</td>\n",
       "    </tr>\n",
       "    <tr>\n",
       "      <th>6</th>\n",
       "      <td>(20, 2, False)</td>\n",
       "      <td>4816.0</td>\n",
       "      <td>7459</td>\n",
       "    </tr>\n",
       "    <tr>\n",
       "      <th>7</th>\n",
       "      <td>(13, 7, True)</td>\n",
       "      <td>-131.0</td>\n",
       "      <td>478</td>\n",
       "    </tr>\n",
       "    <tr>\n",
       "      <th>8</th>\n",
       "      <td>(12, 7, False)</td>\n",
       "      <td>-2289.0</td>\n",
       "      <td>4550</td>\n",
       "    </tr>\n",
       "    <tr>\n",
       "      <th>9</th>\n",
       "      <td>(20, 10, False)</td>\n",
       "      <td>13083.0</td>\n",
       "      <td>30016</td>\n",
       "    </tr>\n",
       "  </tbody>\n",
       "</table>\n",
       "</div>"
      ],
      "text/plain": [
       "             state  total_return      N\n",
       "0   (12, 2, False)       -2482.0   4574\n",
       "1   (17, 2, False)       -3642.0   5269\n",
       "2    (21, 8, True)        2216.0   2366\n",
       "3   (16, 1, False)       -3753.0   5148\n",
       "4  (13, 10, False)      -11442.0  18902\n",
       "5  (17, 10, False)      -14852.0  21144\n",
       "6   (20, 2, False)        4816.0   7459\n",
       "7    (13, 7, True)        -131.0    478\n",
       "8   (12, 7, False)       -2289.0   4550\n",
       "9  (20, 10, False)       13083.0  30016"
      ]
     },
     "execution_count": 16,
     "metadata": {},
     "output_type": "execute_result"
    }
   ],
   "source": [
    "df.head(10)"
   ]
  },
  {
   "cell_type": "code",
   "execution_count": 17,
   "metadata": {},
   "outputs": [],
   "source": [
    "df['value'] = df['total_return'] / df['N']"
   ]
  },
  {
   "cell_type": "code",
   "execution_count": 18,
   "metadata": {},
   "outputs": [
    {
     "data": {
      "text/html": [
       "<div>\n",
       "<style scoped>\n",
       "    .dataframe tbody tr th:only-of-type {\n",
       "        vertical-align: middle;\n",
       "    }\n",
       "\n",
       "    .dataframe tbody tr th {\n",
       "        vertical-align: top;\n",
       "    }\n",
       "\n",
       "    .dataframe thead th {\n",
       "        text-align: right;\n",
       "    }\n",
       "</style>\n",
       "<table border=\"1\" class=\"dataframe\">\n",
       "  <thead>\n",
       "    <tr style=\"text-align: right;\">\n",
       "      <th></th>\n",
       "      <th>state</th>\n",
       "      <th>total_return</th>\n",
       "      <th>N</th>\n",
       "      <th>value</th>\n",
       "    </tr>\n",
       "  </thead>\n",
       "  <tbody>\n",
       "    <tr>\n",
       "      <th>0</th>\n",
       "      <td>(12, 2, False)</td>\n",
       "      <td>-2482.0</td>\n",
       "      <td>4574</td>\n",
       "      <td>-0.542632</td>\n",
       "    </tr>\n",
       "    <tr>\n",
       "      <th>1</th>\n",
       "      <td>(17, 2, False)</td>\n",
       "      <td>-3642.0</td>\n",
       "      <td>5269</td>\n",
       "      <td>-0.691213</td>\n",
       "    </tr>\n",
       "    <tr>\n",
       "      <th>2</th>\n",
       "      <td>(21, 8, True)</td>\n",
       "      <td>2216.0</td>\n",
       "      <td>2366</td>\n",
       "      <td>0.936602</td>\n",
       "    </tr>\n",
       "    <tr>\n",
       "      <th>3</th>\n",
       "      <td>(16, 1, False)</td>\n",
       "      <td>-3753.0</td>\n",
       "      <td>5148</td>\n",
       "      <td>-0.729021</td>\n",
       "    </tr>\n",
       "    <tr>\n",
       "      <th>4</th>\n",
       "      <td>(13, 10, False)</td>\n",
       "      <td>-11442.0</td>\n",
       "      <td>18902</td>\n",
       "      <td>-0.605333</td>\n",
       "    </tr>\n",
       "    <tr>\n",
       "      <th>5</th>\n",
       "      <td>(17, 10, False)</td>\n",
       "      <td>-14852.0</td>\n",
       "      <td>21144</td>\n",
       "      <td>-0.702421</td>\n",
       "    </tr>\n",
       "    <tr>\n",
       "      <th>6</th>\n",
       "      <td>(20, 2, False)</td>\n",
       "      <td>4816.0</td>\n",
       "      <td>7459</td>\n",
       "      <td>0.645663</td>\n",
       "    </tr>\n",
       "    <tr>\n",
       "      <th>7</th>\n",
       "      <td>(13, 7, True)</td>\n",
       "      <td>-131.0</td>\n",
       "      <td>478</td>\n",
       "      <td>-0.274059</td>\n",
       "    </tr>\n",
       "    <tr>\n",
       "      <th>8</th>\n",
       "      <td>(12, 7, False)</td>\n",
       "      <td>-2289.0</td>\n",
       "      <td>4550</td>\n",
       "      <td>-0.503077</td>\n",
       "    </tr>\n",
       "    <tr>\n",
       "      <th>9</th>\n",
       "      <td>(20, 10, False)</td>\n",
       "      <td>13083.0</td>\n",
       "      <td>30016</td>\n",
       "      <td>0.435868</td>\n",
       "    </tr>\n",
       "  </tbody>\n",
       "</table>\n",
       "</div>"
      ],
      "text/plain": [
       "             state  total_return      N     value\n",
       "0   (12, 2, False)       -2482.0   4574 -0.542632\n",
       "1   (17, 2, False)       -3642.0   5269 -0.691213\n",
       "2    (21, 8, True)        2216.0   2366  0.936602\n",
       "3   (16, 1, False)       -3753.0   5148 -0.729021\n",
       "4  (13, 10, False)      -11442.0  18902 -0.605333\n",
       "5  (17, 10, False)      -14852.0  21144 -0.702421\n",
       "6   (20, 2, False)        4816.0   7459  0.645663\n",
       "7    (13, 7, True)        -131.0    478 -0.274059\n",
       "8   (12, 7, False)       -2289.0   4550 -0.503077\n",
       "9  (20, 10, False)       13083.0  30016  0.435868"
      ]
     },
     "execution_count": 18,
     "metadata": {},
     "output_type": "execute_result"
    }
   ],
   "source": [
    "df.head(10)"
   ]
  },
  {
   "cell_type": "code",
   "execution_count": 19,
   "metadata": {},
   "outputs": [
    {
     "data": {
      "text/plain": [
       "array([0.94746767])"
      ]
     },
     "execution_count": 19,
     "metadata": {},
     "output_type": "execute_result"
    }
   ],
   "source": [
    "df[df['state']==(21,9,False)]['value'].values"
   ]
  },
  {
   "cell_type": "code",
   "execution_count": 20,
   "metadata": {},
   "outputs": [
    {
     "data": {
      "text/plain": [
       "array([-0.48491379])"
      ]
     },
     "execution_count": 20,
     "metadata": {},
     "output_type": "execute_result"
    }
   ],
   "source": [
    "df[df['state']==(5, 8, False)]['value'].values"
   ]
  },
  {
   "cell_type": "markdown",
   "metadata": {},
   "source": [
    "## First visit MC prediction"
   ]
  },
  {
   "cell_type": "code",
   "execution_count": 23,
   "metadata": {},
   "outputs": [],
   "source": [
    "total_return = defaultdict(float)\n",
    "N = defaultdict(int)\n",
    "\n",
    "for i in range(num_iterations):\n",
    "    episode = generate_episode(policy)\n",
    "    states, actions, rewards = zip(*episode)\n",
    "    for t, state in enumerate(states):\n",
    "        if state not in states[0:t]:\n",
    "            R = sum(rewards[t:])\n",
    "            total_return[state] = total_return[state] + R\n",
    "            N[state] = N[state] + 1"
   ]
  },
  {
   "cell_type": "code",
   "execution_count": null,
   "metadata": {},
   "outputs": [],
   "source": []
  }
 ],
 "metadata": {
  "kernelspec": {
   "display_name": "Python 3",
   "language": "python",
   "name": "python3"
  },
  "language_info": {
   "codemirror_mode": {
    "name": "ipython",
    "version": 3
   },
   "file_extension": ".py",
   "mimetype": "text/x-python",
   "name": "python",
   "nbconvert_exporter": "python",
   "pygments_lexer": "ipython3",
   "version": "3.6.12"
  }
 },
 "nbformat": 4,
 "nbformat_minor": 4
}
