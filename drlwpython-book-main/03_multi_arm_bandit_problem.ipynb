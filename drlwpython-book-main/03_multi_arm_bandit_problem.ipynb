{
 "cells": [
  {
   "cell_type": "code",
   "execution_count": 5,
   "metadata": {},
   "outputs": [],
   "source": [
    "import gym_bandits\n",
    "import gym\n",
    "import numpy as np"
   ]
  },
  {
   "cell_type": "code",
   "execution_count": 2,
   "metadata": {},
   "outputs": [],
   "source": [
    "env = gym.make(\"BanditTwoArmedHighLowFixed-v0\")"
   ]
  },
  {
   "cell_type": "code",
   "execution_count": 3,
   "metadata": {},
   "outputs": [
    {
     "name": "stdout",
     "output_type": "stream",
     "text": [
      "2\n"
     ]
    }
   ],
   "source": [
    "print(env.action_space.n)"
   ]
  },
  {
   "cell_type": "code",
   "execution_count": 4,
   "metadata": {},
   "outputs": [
    {
     "name": "stdout",
     "output_type": "stream",
     "text": [
      "[0.8, 0.2]\n"
     ]
    }
   ],
   "source": [
    "print(env.p_dist)"
   ]
  },
  {
   "cell_type": "markdown",
   "metadata": {},
   "source": [
    "# Exploration Strategies"
   ]
  },
  {
   "cell_type": "markdown",
   "metadata": {},
   "source": [
    "## Epsilon-greedy"
   ]
  },
  {
   "cell_type": "code",
   "execution_count": 6,
   "metadata": {},
   "outputs": [],
   "source": [
    "count = np.zeros(2)\n",
    "sum_rewards = np.zeros(2)\n",
    "Q = np.zeros(2)"
   ]
  },
  {
   "cell_type": "code",
   "execution_count": 7,
   "metadata": {},
   "outputs": [],
   "source": [
    "num_rounds = 100"
   ]
  },
  {
   "cell_type": "code",
   "execution_count": 8,
   "metadata": {},
   "outputs": [],
   "source": [
    "def epsilon_greedy(epsilon):\n",
    "    if np.random.uniform(0, 1) < epsilon:\n",
    "        return env.action_space.sample()\n",
    "    else:\n",
    "        return np.argmax(Q)"
   ]
  },
  {
   "cell_type": "code",
   "execution_count": 9,
   "metadata": {},
   "outputs": [],
   "source": [
    "for i in range(num_rounds):\n",
    "    arm = epsilon_greedy(epsilon=0.5)\n",
    "    next_state, reward, done, info = env.step(arm)\n",
    "    count[arm] += 1\n",
    "    sum_rewards[arm] += reward\n",
    "    Q[arm] = sum_rewards[arm] / count[arm]"
   ]
  },
  {
   "cell_type": "code",
   "execution_count": 10,
   "metadata": {},
   "outputs": [
    {
     "data": {
      "text/plain": [
       "array([0.88461538, 0.13636364])"
      ]
     },
     "execution_count": 10,
     "metadata": {},
     "output_type": "execute_result"
    }
   ],
   "source": [
    "Q"
   ]
  },
  {
   "cell_type": "code",
   "execution_count": 12,
   "metadata": {},
   "outputs": [
    {
     "name": "stdout",
     "output_type": "stream",
     "text": [
      "The optimal arm is arm 1\n"
     ]
    }
   ],
   "source": [
    "print('The optimal arm is arm {}'.format(np.argmax(Q)+1))"
   ]
  },
  {
   "cell_type": "markdown",
   "metadata": {},
   "source": [
    "## Softmax Exploration"
   ]
  },
  {
   "cell_type": "code",
   "execution_count": 13,
   "metadata": {},
   "outputs": [],
   "source": [
    "count = np.zeros(2)\n",
    "sum_rewards = np.zeros(2)\n",
    "Q = np.zeros(2)"
   ]
  },
  {
   "cell_type": "code",
   "execution_count": 14,
   "metadata": {},
   "outputs": [],
   "source": [
    "num_rounds = 100"
   ]
  },
  {
   "cell_type": "code",
   "execution_count": 15,
   "metadata": {},
   "outputs": [],
   "source": [
    "def softmax(T):\n",
    "    probs = np.array([np.exp(i/T) for i in Q])\n",
    "    return probs / np.sum(probs)"
   ]
  },
  {
   "cell_type": "code",
   "execution_count": 16,
   "metadata": {},
   "outputs": [],
   "source": [
    "def choose(probs):\n",
    "    arm = np.random.choice(env.action_space.n, p=probs)\n",
    "    return arm"
   ]
  },
  {
   "cell_type": "code",
   "execution_count": 17,
   "metadata": {},
   "outputs": [],
   "source": [
    "def pick(T):\n",
    "    probs = softmax(T)\n",
    "    return choose(probs)"
   ]
  },
  {
   "cell_type": "code",
   "execution_count": 18,
   "metadata": {},
   "outputs": [],
   "source": [
    "T = 50"
   ]
  },
  {
   "cell_type": "code",
   "execution_count": 19,
   "metadata": {},
   "outputs": [],
   "source": [
    "for i in range(num_rounds):\n",
    "    arm = pick(T)\n",
    "    next_state, reward, done, info = env.step(arm)\n",
    "    count[arm] += 1\n",
    "    sum_rewards[arm] += reward\n",
    "    Q[arm] = sum_rewards[arm] / count[arm]\n",
    "    T = T*0.99"
   ]
  },
  {
   "cell_type": "code",
   "execution_count": 20,
   "metadata": {},
   "outputs": [
    {
     "data": {
      "text/plain": [
       "array([0.70833333, 0.17307692])"
      ]
     },
     "execution_count": 20,
     "metadata": {},
     "output_type": "execute_result"
    }
   ],
   "source": [
    "Q"
   ]
  },
  {
   "cell_type": "code",
   "execution_count": 21,
   "metadata": {},
   "outputs": [
    {
     "name": "stdout",
     "output_type": "stream",
     "text": [
      "The optimal arm is arm 1\n"
     ]
    }
   ],
   "source": [
    "print('The optimal arm is arm {}'.format(np.argmax(Q)+1))"
   ]
  },
  {
   "cell_type": "markdown",
   "metadata": {},
   "source": [
    "## Upper Confidence Bound"
   ]
  },
  {
   "cell_type": "code",
   "execution_count": 22,
   "metadata": {},
   "outputs": [],
   "source": [
    "count = np.zeros(2)\n",
    "sum_rewards = np.zeros(2)\n",
    "Q = np.zeros(2)"
   ]
  },
  {
   "cell_type": "code",
   "execution_count": 23,
   "metadata": {},
   "outputs": [],
   "source": [
    "num_rounds = 100"
   ]
  },
  {
   "cell_type": "code",
   "execution_count": 24,
   "metadata": {},
   "outputs": [],
   "source": [
    "def UCB(i):\n",
    "    ucb = np.zeros(2)\n",
    "    if i < 2:\n",
    "        return i\n",
    "    for arm in range(env.action_space.n):\n",
    "        ucb[arm] = Q[arm] + np.sqrt(2 * np.log(sum(count)) / count[arm])\n",
    "    return np.argmax(ucb)"
   ]
  },
  {
   "cell_type": "code",
   "execution_count": 25,
   "metadata": {},
   "outputs": [],
   "source": [
    "for i in range(num_rounds):\n",
    "    arm = UCB(i)\n",
    "    next_state, reward, done, info = env.step(arm)\n",
    "    count[arm] += 1\n",
    "    sum_rewards[arm] += reward\n",
    "    Q[arm] = sum_rewards[arm] / count[arm]"
   ]
  },
  {
   "cell_type": "code",
   "execution_count": 26,
   "metadata": {},
   "outputs": [
    {
     "data": {
      "text/plain": [
       "array([0.79545455, 0.25      ])"
      ]
     },
     "execution_count": 26,
     "metadata": {},
     "output_type": "execute_result"
    }
   ],
   "source": [
    "Q"
   ]
  },
  {
   "cell_type": "code",
   "execution_count": 27,
   "metadata": {},
   "outputs": [
    {
     "name": "stdout",
     "output_type": "stream",
     "text": [
      "The optimal arm is arm 1\n"
     ]
    }
   ],
   "source": [
    "print('The optimal arm is arm {}'.format(np.argmax(Q)+1))"
   ]
  },
  {
   "cell_type": "markdown",
   "metadata": {},
   "source": [
    "## Thompson Sampling"
   ]
  },
  {
   "cell_type": "code",
   "execution_count": 33,
   "metadata": {},
   "outputs": [],
   "source": [
    "count = np.zeros(2)\n",
    "sum_rewards = np.zeros(2)\n",
    "Q = np.zeros(2)"
   ]
  },
  {
   "cell_type": "code",
   "execution_count": 34,
   "metadata": {},
   "outputs": [],
   "source": [
    "alpha = np.ones(2)\n",
    "beta = np.ones(2)"
   ]
  },
  {
   "cell_type": "code",
   "execution_count": 35,
   "metadata": {},
   "outputs": [],
   "source": [
    "num_rounds = 100"
   ]
  },
  {
   "cell_type": "code",
   "execution_count": 36,
   "metadata": {},
   "outputs": [],
   "source": [
    "def thompson_sampling(alpha, beta):\n",
    "    samples = [np.random.beta(alpha[i]+1, beta[i]+1) for i in range(2)]\n",
    "    return np.argmax(samples)"
   ]
  },
  {
   "cell_type": "code",
   "execution_count": 37,
   "metadata": {},
   "outputs": [],
   "source": [
    "for i in range(num_rounds):\n",
    "    arm = thompson_sampling(alpha, beta)\n",
    "    next_state, reward, done, info = env.step(arm)\n",
    "    count[arm] += 1\n",
    "    sum_rewards[arm] += reward\n",
    "    Q[arm] = sum_rewards[arm] / count[arm]\n",
    "    \n",
    "    if reward==1:\n",
    "        alpha[arm] = alpha[arm] + 1\n",
    "    else:\n",
    "        beta[arm] = beta[arm] + 1"
   ]
  },
  {
   "cell_type": "code",
   "execution_count": 38,
   "metadata": {},
   "outputs": [
    {
     "name": "stdout",
     "output_type": "stream",
     "text": [
      "The optimal arm is arm 1\n"
     ]
    }
   ],
   "source": [
    "print('The optimal arm is arm {}'.format(np.argmax(Q)+1))"
   ]
  },
  {
   "cell_type": "code",
   "execution_count": 39,
   "metadata": {},
   "outputs": [
    {
     "data": {
      "text/plain": [
       "array([0.86666667, 0.5       ])"
      ]
     },
     "execution_count": 39,
     "metadata": {},
     "output_type": "execute_result"
    }
   ],
   "source": [
    "Q"
   ]
  },
  {
   "cell_type": "code",
   "execution_count": null,
   "metadata": {},
   "outputs": [],
   "source": []
  }
 ],
 "metadata": {
  "kernelspec": {
   "display_name": "Python 3",
   "language": "python",
   "name": "python3"
  },
  "language_info": {
   "codemirror_mode": {
    "name": "ipython",
    "version": 3
   },
   "file_extension": ".py",
   "mimetype": "text/x-python",
   "name": "python",
   "nbconvert_exporter": "python",
   "pygments_lexer": "ipython3",
   "version": "3.6.12"
  }
 },
 "nbformat": 4,
 "nbformat_minor": 4
}
