{
 "cells": [
  {
   "cell_type": "code",
   "execution_count": 1,
   "metadata": {},
   "outputs": [],
   "source": [
    "import gym"
   ]
  },
  {
   "cell_type": "code",
   "execution_count": 2,
   "metadata": {},
   "outputs": [],
   "source": [
    "import numpy as np"
   ]
  },
  {
   "cell_type": "code",
   "execution_count": 3,
   "metadata": {},
   "outputs": [],
   "source": [
    "env = gym.make('FrozenLake-v0')"
   ]
  },
  {
   "cell_type": "code",
   "execution_count": 5,
   "metadata": {},
   "outputs": [],
   "source": [
    "value_f = np.zeros((env.observation_space.n))"
   ]
  },
  {
   "cell_type": "code",
   "execution_count": 6,
   "metadata": {},
   "outputs": [],
   "source": [
    "q_value_f = np.zeros((env.observation_space.n, env.action_space.n))"
   ]
  },
  {
   "cell_type": "code",
   "execution_count": 13,
   "metadata": {},
   "outputs": [],
   "source": [
    "def value_iteration(env):\n",
    "    num_iterations = 1000\n",
    "    threshold = 1e-20\n",
    "    gamma = 1.0\n",
    "    value_table = np.zeros((env.observation_space.n))\n",
    "    for i in range(num_iterations):\n",
    "        updated_value_table = np.copy(value_table)\n",
    "        for s in range(env.observation_space.n):\n",
    "            Q_values = [sum([prob*(r + gamma * updated_value_table[s_]) for prob, s_, r, _ in env.P[s][a]]) for a in range(env.action_space.n)]\n",
    "            value_table[s] = max(Q_values)\n",
    "        if np.sum(np.fabs(value_table - updated_value_table)) <= threshold:\n",
    "            break\n",
    "    return value_table"
   ]
  },
  {
   "cell_type": "code",
   "execution_count": 14,
   "metadata": {},
   "outputs": [],
   "source": [
    "def extract_policy(value_table):\n",
    "    gamma = 1.0\n",
    "    policy = np.zeros(env.observation_space.n)\n",
    "    \n",
    "    for s in range(env.observation_space.n):\n",
    "        Q_values = [sum([prob * (r + gamma * value_table[s_]) for prob, s_, r, _ in env.P[s][a]]) for a in range(env.action_space.n)]\n",
    "        \n",
    "        policy[s] = np.argmax(np.array(Q_values))\n",
    "        \n",
    "    return policy"
   ]
  },
  {
   "cell_type": "code",
   "execution_count": 15,
   "metadata": {},
   "outputs": [],
   "source": [
    "optimal_value_function = value_iteration(env)"
   ]
  },
  {
   "cell_type": "code",
   "execution_count": 16,
   "metadata": {},
   "outputs": [],
   "source": [
    "optimal_policy = extract_policy(optimal_value_function)"
   ]
  },
  {
   "cell_type": "code",
   "execution_count": 17,
   "metadata": {},
   "outputs": [
    {
     "data": {
      "text/plain": [
       "array([0., 3., 3., 3., 0., 0., 0., 0., 3., 1., 0., 0., 0., 2., 1., 0.])"
      ]
     },
     "execution_count": 17,
     "metadata": {},
     "output_type": "execute_result"
    }
   ],
   "source": [
    "optimal_policy"
   ]
  },
  {
   "cell_type": "markdown",
   "metadata": {},
   "source": [
    "### Policy Iteration"
   ]
  },
  {
   "cell_type": "code",
   "execution_count": 18,
   "metadata": {},
   "outputs": [],
   "source": [
    "def compute_value_function(policy, env):\n",
    "    num_iterations = 1000\n",
    "    threshold = 1e-20\n",
    "    gamma = 1.0\n",
    "    value_table = np.zeros(env.observation_space.n)\n",
    "    for i in range(num_iterations):\n",
    "        updated_value_table = np.copy(value_table)\n",
    "        for s in range(env.observation_space.n):\n",
    "            a = policy[s]\n",
    "            value_table[s] = sum([prob * (r + gamma * updated_value_table[s_]) for prob, s_, r, _ in env.P[s][a]])\n",
    "            \n",
    "        if np.sum(np.fabs(updated_value_table - value_table)) <= threshold:\n",
    "            break\n",
    "    return value_table"
   ]
  },
  {
   "cell_type": "code",
   "execution_count": 19,
   "metadata": {},
   "outputs": [],
   "source": [
    "def policy_iteration(env):\n",
    "    num_iterations = 1000\n",
    "    policy = np.zeros(env.observation_space.n)\n",
    "    for i in range(num_iterations):\n",
    "        value_function = compute_value_function(policy, env)\n",
    "        new_policy = extract_policy(value_function)\n",
    "        \n",
    "        if np.all(new_policy == policy):\n",
    "            break\n",
    "        else:\n",
    "            policy = new_policy\n",
    "            \n",
    "    return policy\n",
    "    "
   ]
  },
  {
   "cell_type": "code",
   "execution_count": 20,
   "metadata": {},
   "outputs": [],
   "source": [
    "optimal_policy = policy_iteration(env)"
   ]
  },
  {
   "cell_type": "code",
   "execution_count": 21,
   "metadata": {},
   "outputs": [
    {
     "data": {
      "text/plain": [
       "array([0., 3., 3., 3., 0., 0., 0., 0., 3., 1., 0., 0., 0., 2., 1., 0.])"
      ]
     },
     "execution_count": 21,
     "metadata": {},
     "output_type": "execute_result"
    }
   ],
   "source": [
    "optimal_policy"
   ]
  },
  {
   "cell_type": "code",
   "execution_count": null,
   "metadata": {},
   "outputs": [],
   "source": []
  }
 ],
 "metadata": {
  "kernelspec": {
   "display_name": "Python 3",
   "language": "python",
   "name": "python3"
  },
  "language_info": {
   "codemirror_mode": {
    "name": "ipython",
    "version": 3
   },
   "file_extension": ".py",
   "mimetype": "text/x-python",
   "name": "python",
   "nbconvert_exporter": "python",
   "pygments_lexer": "ipython3",
   "version": "3.6.12"
  }
 },
 "nbformat": 4,
 "nbformat_minor": 4
}
