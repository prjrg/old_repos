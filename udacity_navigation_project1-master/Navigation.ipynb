{
 "cells": [
  {
   "cell_type": "markdown",
   "metadata": {},
   "source": [
    "# Navigation\n",
    "\n",
    "---\n",
    "\n",
    "You are welcome to use this coding environment to train your agent for the project.  Follow the instructions below to get started!\n",
    "\n",
    "### 1. Start the Environment\n",
    "\n",
    "Run the next code cell to install a few packages.  This line will take a few minutes to run!"
   ]
  },
  {
   "cell_type": "code",
   "execution_count": 1,
   "metadata": {},
   "outputs": [],
   "source": [
    "!pip -q install ./python"
   ]
  },
  {
   "cell_type": "markdown",
   "metadata": {},
   "source": [
    "The environment is already saved in the Workspace and can be accessed at the file path provided below.  Please run the next code cell without making any changes."
   ]
  },
  {
   "cell_type": "code",
   "execution_count": 2,
   "metadata": {},
   "outputs": [
    {
     "name": "stderr",
     "output_type": "stream",
     "text": [
      "INFO:unityagents:\n",
      "'Academy' started successfully!\n",
      "Unity Academy name: Academy\n",
      "        Number of Brains: 1\n",
      "        Number of External Brains : 1\n",
      "        Lesson number : 0\n",
      "        Reset Parameters :\n",
      "\t\t\n",
      "Unity brain name: BananaBrain\n",
      "        Number of Visual Observations (per agent): 0\n",
      "        Vector Observation space type: continuous\n",
      "        Vector Observation space size (per agent): 37\n",
      "        Number of stacked Vector Observation: 1\n",
      "        Vector Action space type: discrete\n",
      "        Vector Action space size (per agent): 4\n",
      "        Vector Action descriptions: , , , \n"
     ]
    }
   ],
   "source": [
    "from unityagents import UnityEnvironment\n",
    "import numpy as np\n",
    "\n",
    "# please do not modify the line below\n",
    "env = UnityEnvironment(file_name=\"/data/Banana_Linux_NoVis/Banana.x86_64\")\n",
    "# I defined the line below according \n",
    "# to my local installation in Linux and the guide (Banana_Linux folder in the same directory as project)\n",
    "#env = UnityEnvironment(file_name=\"Banana_Linux/Banana.x86_64\")"
   ]
  },
  {
   "cell_type": "markdown",
   "metadata": {},
   "source": [
    "Environments contain **_brains_** which are responsible for deciding the actions of their associated agents. Here we check for the first brain available, and set it as the default brain we will be controlling from Python."
   ]
  },
  {
   "cell_type": "code",
   "execution_count": 3,
   "metadata": {},
   "outputs": [],
   "source": [
    "# get the default brain\n",
    "brain_name = env.brain_names[0]\n",
    "brain = env.brains[brain_name]"
   ]
  },
  {
   "cell_type": "markdown",
   "metadata": {},
   "source": [
    "### 2. Examine the State and Action Spaces\n",
    "\n",
    "Run the code cell below to print some information about the environment.\n",
    "\n",
    "We'll be needing this values to specify the Agent parameters."
   ]
  },
  {
   "cell_type": "code",
   "execution_count": 4,
   "metadata": {},
   "outputs": [
    {
     "name": "stdout",
     "output_type": "stream",
     "text": [
      "Number of agents: 1\n",
      "Number of actions: 4\n",
      "States look like: [1.         0.         0.         0.         0.84408134 0.\n",
      " 0.         1.         0.         0.0748472  0.         1.\n",
      " 0.         0.         0.25755    1.         0.         0.\n",
      " 0.         0.74177343 0.         1.         0.         0.\n",
      " 0.25854847 0.         0.         1.         0.         0.09355672\n",
      " 0.         1.         0.         0.         0.31969345 0.\n",
      " 0.        ]\n",
      "States have length: 37\n"
     ]
    }
   ],
   "source": [
    "# reset the environment\n",
    "env_info = env.reset(train_mode=True)[brain_name]\n",
    "\n",
    "# number of agents in the environment\n",
    "print('Number of agents:', len(env_info.agents))\n",
    "\n",
    "# number of actions\n",
    "action_size = brain.vector_action_space_size\n",
    "print('Number of actions:', action_size)\n",
    "\n",
    "# examine the state space \n",
    "state = env_info.vector_observations[0]\n",
    "print('States look like:', state)\n",
    "state_size = len(state)\n",
    "print('States have length:', state_size)"
   ]
  },
  {
   "cell_type": "markdown",
   "metadata": {},
   "source": [
    "When finished, you can close the environment."
   ]
  },
  {
   "cell_type": "markdown",
   "metadata": {},
   "source": [
    "## 3. Implementation of the Training methods for the Double Q Learning with Dueling Q Networks"
   ]
  },
  {
   "cell_type": "markdown",
   "metadata": {},
   "source": [
    "#### Set the double q learning agent"
   ]
  },
  {
   "cell_type": "code",
   "execution_count": 5,
   "metadata": {},
   "outputs": [],
   "source": [
    "from ddqn_agent import Agent\n",
    "\n",
    "agent = Agent(state_size=state_size, action_size=action_size, seed=0)"
   ]
  },
  {
   "cell_type": "markdown",
   "metadata": {},
   "source": [
    "### Call the training method from the Trainer Class so we can actually train the Double Q Learning agent with Experience Replay and Dueling Q Networks"
   ]
  },
  {
   "cell_type": "code",
   "execution_count": 6,
   "metadata": {},
   "outputs": [
    {
     "name": "stdout",
     "output_type": "stream",
     "text": [
      "Episode 100\tAverage Score: 0.81\n",
      "Episode 200\tAverage Score: 3.58\n",
      "Episode 300\tAverage Score: 7.00\n",
      "Episode 400\tAverage Score: 9.84\n",
      "Episode 500\tAverage Score: 14.61\n",
      "Episode 600\tAverage Score: 14.66\n",
      "Episode 700\tAverage Score: 15.49\n",
      "Episode 800\tAverage Score: 15.76\n",
      "Episode 900\tAverage Score: 16.20\n",
      "Episode 910\tAverage Score: 16.53\n",
      "Environment solved in 810 episodes!\tAverage Score: 16.53\n"
     ]
    }
   ],
   "source": [
    "from training import Trainer\n",
    "\n",
    "training = Trainer(env, agent)\n",
    "\n",
    "scores_train = training.train()"
   ]
  },
  {
   "cell_type": "markdown",
   "metadata": {},
   "source": [
    "### Plot the scores throughout all 800 episodes"
   ]
  },
  {
   "cell_type": "code",
   "execution_count": 7,
   "metadata": {},
   "outputs": [
    {
     "data": {
      "image/png": "[encoded data removed]",
      "text/plain": [
       "<Figure size 432x288 with 1 Axes>"
      ]
     },
     "metadata": {
      "needs_background": "light"
     },
     "output_type": "display_data"
    }
   ],
   "source": [
    "import matplotlib.pyplot as plt\n",
    "%matplotlib inline\n",
    "\n",
    "fig = plt.figure()\n",
    "ax = fig.add_subplot(111)\n",
    "plt.plot(np.arange(len(scores_train)), scores_train)\n",
    "plt.ylabel('Score')\n",
    "plt.xlabel('Episode #')\n",
    "plt.show()"
   ]
  },
  {
   "cell_type": "markdown",
   "metadata": {},
   "source": [
    "# 4. Load Smart Agent and Watch it in Action"
   ]
  },
  {
   "cell_type": "code",
   "execution_count": 6,
   "metadata": {},
   "outputs": [
    {
     "name": "stdout",
     "output_type": "stream",
     "text": [
      "Episode 1\tAverage Score: 20.00\n",
      "Episode 2\tAverage Score: 12.50\n",
      "Episode 3\tAverage Score: 14.00\n",
      "Episode 4\tAverage Score: 15.50\n",
      "Episode 5\tAverage Score: 16.20\n",
      "Episode 6\tAverage Score: 15.17\n",
      "Episode 7\tAverage Score: 15.29\n",
      "Episode 8\tAverage Score: 15.12\n",
      "Episode 9\tAverage Score: 16.00\n",
      "Episode 10\tAverage Score: 16.40\n",
      "Episode 11\tAverage Score: 16.36\n",
      "Episode 12\tAverage Score: 16.08\n",
      "Episode 13\tAverage Score: 16.31\n",
      "Episode 14\tAverage Score: 16.36\n",
      "Episode 15\tAverage Score: 16.07\n",
      "Episode 16\tAverage Score: 16.19\n",
      "Episode 17\tAverage Score: 15.94\n",
      "Episode 18\tAverage Score: 15.78\n",
      "Episode 19\tAverage Score: 15.84\n",
      "Episode 20\tAverage Score: 15.75\n",
      "Episode 21\tAverage Score: 16.10\n",
      "Episode 22\tAverage Score: 15.45\n",
      "Episode 23\tAverage Score: 15.61\n",
      "Episode 24\tAverage Score: 15.54\n",
      "Episode 25\tAverage Score: 15.60\n",
      "Episode 26\tAverage Score: 15.54\n",
      "Episode 27\tAverage Score: 15.59\n",
      "Episode 28\tAverage Score: 15.68\n",
      "Episode 29\tAverage Score: 15.76\n",
      "Episode 30\tAverage Score: 15.97\n",
      "Episode 31\tAverage Score: 16.16\n",
      "Episode 32\tAverage Score: 16.31\n",
      "Episode 33\tAverage Score: 16.39\n",
      "Episode 34\tAverage Score: 16.59\n",
      "Episode 35\tAverage Score: 16.60\n",
      "Episode 36\tAverage Score: 16.61\n",
      "Episode 37\tAverage Score: 16.78\n",
      "Episode 38\tAverage Score: 16.74\n",
      "Episode 39\tAverage Score: 16.69\n",
      "Episode 40\tAverage Score: 16.73\n",
      "Episode 41\tAverage Score: 16.83\n",
      "Episode 42\tAverage Score: 16.69\n",
      "Episode 43\tAverage Score: 16.60\n",
      "Episode 44\tAverage Score: 16.68\n",
      "Episode 45\tAverage Score: 16.84\n",
      "Episode 46\tAverage Score: 16.89\n",
      "Episode 47\tAverage Score: 16.96\n",
      "Episode 48\tAverage Score: 17.17\n",
      "Episode 49\tAverage Score: 17.08\n",
      "Episode 50\tAverage Score: 17.18\n",
      "Episode 51\tAverage Score: 17.20\n",
      "Episode 52\tAverage Score: 17.19\n",
      "Episode 53\tAverage Score: 17.32\n",
      "Episode 54\tAverage Score: 17.30\n",
      "Episode 55\tAverage Score: 17.24\n",
      "Episode 56\tAverage Score: 17.27\n",
      "Episode 57\tAverage Score: 17.26\n",
      "Episode 58\tAverage Score: 17.22\n",
      "Episode 59\tAverage Score: 17.22\n",
      "Episode 60\tAverage Score: 17.25\n",
      "Episode 61\tAverage Score: 17.28\n",
      "Episode 62\tAverage Score: 17.29\n",
      "Episode 63\tAverage Score: 17.32\n",
      "Episode 64\tAverage Score: 17.38\n",
      "Episode 65\tAverage Score: 17.32\n",
      "Episode 66\tAverage Score: 17.36\n",
      "Episode 67\tAverage Score: 17.39\n",
      "Episode 68\tAverage Score: 17.51\n",
      "Episode 69\tAverage Score: 17.54\n",
      "Episode 70\tAverage Score: 17.63\n",
      "Episode 71\tAverage Score: 17.52\n",
      "Episode 72\tAverage Score: 17.57\n",
      "Episode 73\tAverage Score: 17.56\n",
      "Episode 74\tAverage Score: 17.55\n",
      "Episode 75\tAverage Score: 17.51\n",
      "Episode 76\tAverage Score: 17.49\n",
      "Episode 77\tAverage Score: 17.48\n",
      "Episode 78\tAverage Score: 17.44\n",
      "Episode 79\tAverage Score: 17.44\n",
      "Episode 80\tAverage Score: 17.48\n",
      "Episode 81\tAverage Score: 17.48\n",
      "Episode 82\tAverage Score: 17.50\n",
      "Episode 83\tAverage Score: 17.49\n",
      "Episode 84\tAverage Score: 17.43\n",
      "Episode 85\tAverage Score: 17.41\n",
      "Episode 86\tAverage Score: 17.44\n",
      "Episode 87\tAverage Score: 17.44\n",
      "Episode 88\tAverage Score: 17.48\n",
      "Episode 89\tAverage Score: 17.52\n",
      "Episode 90\tAverage Score: 17.53\n",
      "Episode 91\tAverage Score: 17.53\n",
      "Episode 92\tAverage Score: 17.52\n",
      "Episode 93\tAverage Score: 17.53\n",
      "Episode 94\tAverage Score: 17.50\n",
      "Episode 95\tAverage Score: 17.49\n",
      "Episode 96\tAverage Score: 17.52\n",
      "Episode 97\tAverage Score: 17.47\n",
      "Episode 98\tAverage Score: 17.43\n",
      "Episode 99\tAverage Score: 17.39\n",
      "Episode 100\tAverage Score: 17.32\n"
     ]
    }
   ],
   "source": [
    "import torch\n",
    "#Load the agent into memory from checkpoint.pth\n",
    "agent.qnetwork_local.load_state_dict(torch.load('checkpoint.pth'))\n",
    "#Compute the average scores for 100 episodes and plot them so we can see\n",
    "#the problem is solved (>=13 score over 100 episodes)\n",
    "max_t = 1000\n",
    "n_episodes = 100\n",
    "scores = []                        # list containing scores from each episode\n",
    "for i_episode in range(1, n_episodes+1):\n",
    "    env_info = env.reset(train_mode=False)[brain_name]\n",
    "    state = env_info.vector_observations[0]\n",
    "    score = 0\n",
    "\n",
    "    while True:\n",
    "        action = agent.act(state)\n",
    "\n",
    "        env_info = env.step(action)[brain_name]\n",
    "\n",
    "        next_state = env_info.vector_observations[0]\n",
    "        reward = env_info.rewards[0]\n",
    "        done = env_info.local_done[0]\n",
    "\n",
    "        state = next_state\n",
    "        score += reward\n",
    "        if done:\n",
    "            scores.append(score) \n",
    "            print('\\rEpisode {}\\tAverage Score: {:.2f}'.format(i_episode, np.mean(scores)))\n",
    "            break\n"
   ]
  },
  {
   "cell_type": "code",
   "execution_count": 7,
   "metadata": {},
   "outputs": [
    {
     "data": {
      "image/png": "[encoded data removed]",
      "text/plain": [
       "<Figure size 432x288 with 1 Axes>"
      ]
     },
     "metadata": {
      "needs_background": "light"
     },
     "output_type": "display_data"
    }
   ],
   "source": [
    "import matplotlib.pyplot as plt\n",
    "%matplotlib inline\n",
    "# plot the scores\n",
    "fig = plt.figure()\n",
    "ax = fig.add_subplot(111)\n",
    "plt.plot(np.arange(len(scores)), scores)\n",
    "plt.ylabel('Score')\n",
    "plt.xlabel('Episode #')\n",
    "plt.show()"
   ]
  },
  {
   "cell_type": "code",
   "execution_count": 8,
   "metadata": {},
   "outputs": [],
   "source": [
    "env.close()"
   ]
  },
  {
   "cell_type": "code",
   "execution_count": null,
   "metadata": {},
   "outputs": [],
   "source": []
  }
 ],
 "metadata": {
  "kernelspec": {
   "display_name": "Python 3",
   "language": "python",
   "name": "python3"
  },
  "language_info": {
   "codemirror_mode": {
    "name": "ipython",
    "version": 3
   },
   "file_extension": ".py",
   "mimetype": "text/x-python",
   "name": "python",
   "nbconvert_exporter": "python",
   "pygments_lexer": "ipython3",
   "version": "3.6.7"
  }
 },
 "nbformat": 4,
 "nbformat_minor": 2
}
